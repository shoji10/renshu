{
 "cells": [
  {
   "cell_type": "markdown",
   "id": "3214c835",
   "metadata": {},
   "source": [
    "## 1-3論理・比較演算と分岐条件の基礎"
   ]
  },
  {
   "cell_type": "code",
   "execution_count": null,
   "id": "342145e4",
   "metadata": {},
   "outputs": [],
   "source": []
  }
 ],
 "metadata": {
  "kernelspec": {
   "display_name": "Python 3 (ipykernel)",
   "language": "python",
   "name": "python3"
  },
  "language_info": {
   "codemirror_mode": {
    "name": "ipython",
    "version": 3
   },
   "file_extension": ".py",
   "mimetype": "text/x-python",
   "name": "python",
   "nbconvert_exporter": "python",
   "pygments_lexer": "ipython3",
   "version": "3.9.12"
  }
 },
 "nbformat": 4,
 "nbformat_minor": 5
}
