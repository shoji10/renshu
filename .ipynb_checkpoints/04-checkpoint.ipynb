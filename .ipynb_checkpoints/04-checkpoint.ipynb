{
 "cells": [
  {
   "cell_type": "markdown",
   "id": "c3a0c85b",
   "metadata": {},
   "source": [
    "## 2-1文字列"
   ]
  },
  {
   "cell_type": "code",
   "execution_count": 2,
   "id": "b96d0f68",
   "metadata": {},
   "outputs": [],
   "source": [
    "from IPython import InteractiveShell\n",
    "InteractiveShell.ast_node_interactivity = \"all\" "
   ]
  },
  {
   "cell_type": "markdown",
   "id": "ed9e997d",
   "metadata": {},
   "source": [
    "文字列は''もしくは\"\"で囲んで記述"
   ]
  },
  {
   "cell_type": "code",
   "execution_count": 5,
   "id": "088f1d4f",
   "metadata": {},
   "outputs": [
    {
     "data": {
      "text/plain": [
       "'one'"
      ]
     },
     "execution_count": 5,
     "metadata": {},
     "output_type": "execute_result"
    },
    {
     "data": {
      "text/plain": [
       "'two'"
      ]
     },
     "execution_count": 5,
     "metadata": {},
     "output_type": "execute_result"
    }
   ],
   "source": [
    "# 文字列をそれぞれ変数に代入\n",
    "word1 = 'one'\n",
    "word1\n",
    "\n",
    "word2 = 'two'\n",
    "word2"
   ]
  },
  {
   "cell_type": "markdown",
   "id": "d1a6324d",
   "metadata": {},
   "source": [
    "組み込み関数 type で文字列であるかを確認できる"
   ]
  },
  {
   "cell_type": "code",
   "execution_count": 6,
   "id": "f3b3eade",
   "metadata": {},
   "outputs": [
    {
     "data": {
      "text/plain": [
       "str"
      ]
     },
     "execution_count": 6,
     "metadata": {},
     "output_type": "execute_result"
    },
    {
     "data": {
      "text/plain": [
       "str"
      ]
     },
     "execution_count": 6,
     "metadata": {},
     "output_type": "execute_result"
    }
   ],
   "source": [
    "type(word1)\n",
    "type(word2)"
   ]
  },
  {
   "cell_type": "markdown",
   "id": "8af5e009",
   "metadata": {},
   "source": [
    "strは文字列  \n",
    "intは整数  \n",
    "floatは実数  \n",
    "以下の式でそれぞれを任意のものに変換できる"
   ]
  },
  {
   "cell_type": "code",
   "execution_count": 13,
   "id": "20ea532b",
   "metadata": {},
   "outputs": [
    {
     "data": {
      "text/plain": [
       "'1234'"
      ]
     },
     "execution_count": 13,
     "metadata": {},
     "output_type": "execute_result"
    },
    {
     "data": {
      "text/plain": [
       "str"
      ]
     },
     "execution_count": 13,
     "metadata": {},
     "output_type": "execute_result"
    }
   ],
   "source": [
    "# 変数に整数を入力、文字列に変更\n",
    "word3 = str(1234)\n",
    "# 見かけは整数に見える\n",
    "word3\n",
    "# 確認すると文字列になっている\n",
    "type(word3)"
   ]
  },
  {
   "cell_type": "code",
   "execution_count": 14,
   "id": "f27730df",
   "metadata": {},
   "outputs": [
    {
     "data": {
      "text/plain": [
       "int"
      ]
     },
     "execution_count": 14,
     "metadata": {},
     "output_type": "execute_result"
    },
    {
     "data": {
      "text/plain": [
       "str"
      ]
     },
     "execution_count": 14,
     "metadata": {},
     "output_type": "execute_result"
    }
   ],
   "source": [
    "# 整数を代入すれば整数\n",
    "i = 123\n",
    "type(i)\n",
    "\n",
    "# 文字列に変更\n",
    "i = str(i)\n",
    "type(i)"
   ]
  },
  {
   "cell_type": "markdown",
   "id": "3e3b34c4",
   "metadata": {},
   "source": [
    "文字列の長さは len を用いて求める"
   ]
  },
  {
   "cell_type": "code",
   "execution_count": 15,
   "id": "3aa58f65",
   "metadata": {},
   "outputs": [
    {
     "data": {
      "text/plain": [
       "3"
      ]
     },
     "execution_count": 15,
     "metadata": {},
     "output_type": "execute_result"
    },
    {
     "data": {
      "text/plain": [
       "4"
      ]
     },
     "execution_count": 15,
     "metadata": {},
     "output_type": "execute_result"
    }
   ],
   "source": [
    "len(word2)\n",
    "len(word3)"
   ]
  },
  {
   "cell_type": "markdown",
   "id": "27e63780",
   "metadata": {},
   "source": [
    "文字列の中から文字を得たい場合"
   ]
  },
  {
   "cell_type": "code",
   "execution_count": 16,
   "id": "b3e3603a",
   "metadata": {},
   "outputs": [
    {
     "data": {
      "text/plain": [
       "'l'"
      ]
     },
     "execution_count": 16,
     "metadata": {},
     "output_type": "execute_result"
    },
    {
     "data": {
      "text/plain": [
       "'l'"
      ]
     },
     "execution_count": 16,
     "metadata": {},
     "output_type": "execute_result"
    }
   ],
   "source": [
    "'hello'[2]\n",
    "\n",
    "word1 = 'hello'\n",
    "word1[2]"
   ]
  },
  {
   "cell_type": "markdown",
   "id": "928773ab",
   "metadata": {},
   "source": [
    "[]内の数値をインデックスと呼ぶ  \n",
    "インデックスは0から始まるのでx番目の要素を得るにはx-1を指定する  \n",
    "(逆にxを指定したらｘ+1番目の要素が返ってくる)  \n",
    "  \n",
    "文字列に対してインデックスを指定してその要素を変更することはできない。  \n",
    "文字列の長さ以上のインデックスは指定できない。"
   ]
  },
  {
   "cell_type": "code",
   "execution_count": 17,
   "id": "bf2d3fec",
   "metadata": {},
   "outputs": [
    {
     "ename": "TypeError",
     "evalue": "'str' object does not support item assignment",
     "output_type": "error",
     "traceback": [
      "\u001b[1;31m---------------------------------------------------------------------------\u001b[0m",
      "\u001b[1;31mTypeError\u001b[0m                                 Traceback (most recent call last)",
      "Input \u001b[1;32mIn [17]\u001b[0m, in \u001b[0;36m<cell line: 2>\u001b[1;34m()\u001b[0m\n\u001b[0;32m      1\u001b[0m word1 \u001b[38;5;241m=\u001b[39m \u001b[38;5;124m'\u001b[39m\u001b[38;5;124mhello\u001b[39m\u001b[38;5;124m'\u001b[39m\n\u001b[1;32m----> 2\u001b[0m word1[\u001b[38;5;241m0\u001b[39m] \u001b[38;5;241m=\u001b[39m \u001b[38;5;124m'\u001b[39m\u001b[38;5;124mH\u001b[39m\u001b[38;5;124m'\u001b[39m\n",
      "\u001b[1;31mTypeError\u001b[0m: 'str' object does not support item assignment"
     ]
    }
   ],
   "source": [
    "word1 = 'hello'\n",
    "word1[0] = 'H'"
   ]
  },
  {
   "cell_type": "code",
   "execution_count": 18,
   "id": "a4af780a",
   "metadata": {},
   "outputs": [
    {
     "ename": "IndexError",
     "evalue": "string index out of range",
     "output_type": "error",
     "traceback": [
      "\u001b[1;31m---------------------------------------------------------------------------\u001b[0m",
      "\u001b[1;31mIndexError\u001b[0m                                Traceback (most recent call last)",
      "Input \u001b[1;32mIn [18]\u001b[0m, in \u001b[0;36m<cell line: 1>\u001b[1;34m()\u001b[0m\n\u001b[1;32m----> 1\u001b[0m \u001b[43mword1\u001b[49m\u001b[43m[\u001b[49m\u001b[38;5;241;43m100\u001b[39;49m\u001b[43m]\u001b[49m\n",
      "\u001b[1;31mIndexError\u001b[0m: string index out of range"
     ]
    }
   ],
   "source": [
    "word1[100]"
   ]
  },
  {
   "cell_type": "markdown",
   "id": "c83c4c3a",
   "metadata": {},
   "source": [
    "インデックスに負数を指定すると文字列を後ろから数えて文字を取得する"
   ]
  },
  {
   "cell_type": "code",
   "execution_count": 19,
   "id": "f909287e",
   "metadata": {},
   "outputs": [
    {
     "data": {
      "text/plain": [
       "'o'"
      ]
     },
     "execution_count": 19,
     "metadata": {},
     "output_type": "execute_result"
    }
   ],
   "source": [
    "# word1'hello'の一番最後の文字を取得する\n",
    "# そのためにインデックスで-1を指定する\n",
    "word1[-1]"
   ]
  },
  {
   "cell_type": "code",
   "execution_count": null,
   "id": "edeb71c0",
   "metadata": {},
   "outputs": [],
   "source": []
  }
 ],
 "metadata": {
  "kernelspec": {
   "display_name": "Python 3 (ipykernel)",
   "language": "python",
   "name": "python3"
  },
  "language_info": {
   "codemirror_mode": {
    "name": "ipython",
    "version": 3
   },
   "file_extension": ".py",
   "mimetype": "text/x-python",
   "name": "python",
   "nbconvert_exporter": "python",
   "pygments_lexer": "ipython3",
   "version": "3.9.12"
  }
 },
 "nbformat": 4,
 "nbformat_minor": 5
}
