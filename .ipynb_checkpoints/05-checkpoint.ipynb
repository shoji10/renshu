{
 "cells": [
  {
   "cell_type": "markdown",
   "id": "f5546b6e",
   "metadata": {},
   "source": [
    "## 2-2"
   ]
  },
  {
   "cell_type": "code",
   "execution_count": 2,
   "id": "481f879e",
   "metadata": {},
   "outputs": [],
   "source": [
    "from IPython import InteractiveShell\n",
    "InteractiveShell.ast_node_interactivity = \"all\" "
   ]
  },
  {
   "cell_type": "markdown",
   "id": "8971de41",
   "metadata": {},
   "source": [
    "リストとインデックス」<br>\n",
    "リストでは構成する要素としてあらゆる型のデータを指定可能。<br>\n",
    "<br>\n",
    "リストを作成するには構成する要素をコンマで区切り全体を[]で囲む<br>"
   ]
  },
  {
   "cell_type": "code",
   "execution_count": 4,
   "id": "ab390bc0",
   "metadata": {},
   "outputs": [
    {
     "data": {
      "text/plain": [
       "[0, 10, 20, 30, 40, 50]"
      ]
     },
     "execution_count": 4,
     "metadata": {},
     "output_type": "execute_result"
    },
    {
     "data": {
      "text/plain": [
       "list"
      ]
     },
     "execution_count": 4,
     "metadata": {},
     "output_type": "execute_result"
    }
   ],
   "source": [
    "# 数値を要素とするリストを作成して、変数に代入\n",
    "\n",
    "numbers = [0, 10, 20, 30, 40, 50]\n",
    "numbers\n",
    "\n",
    "# 文字列と同様に組み込み関数typeを用いて変数の値がリストであることを確認している\n",
    "type(numbers)\n",
    "# 文字列のデータ型はlist"
   ]
  },
  {
   "cell_type": "code",
   "execution_count": 6,
   "id": "f0b30571",
   "metadata": {},
   "outputs": [
    {
     "data": {
      "text/plain": [
       "['apple', 'banana', 'chelly']"
      ]
     },
     "execution_count": 6,
     "metadata": {},
     "output_type": "execute_result"
    }
   ],
   "source": [
    "# 文字列を構成要素とするリストを作成してみる\n",
    "fruits = ['apple', 'banana', 'chelly']\n",
    "fruits"
   ]
  },
  {
   "cell_type": "code",
   "execution_count": 9,
   "id": "fab5b7b9",
   "metadata": {},
   "outputs": [
    {
     "data": {
      "text/plain": [
       "[10, 'apple', 20, 'banana', 30]"
      ]
     },
     "execution_count": 9,
     "metadata": {},
     "output_type": "execute_result"
    }
   ],
   "source": [
    "# 数値と文字列混在していてもOK\n",
    "number_fruits = [10, 'apple', 20, 'banana', 30]\n",
    "number_fruits"
   ]
  },
  {
   "cell_type": "code",
   "execution_count": 10,
   "id": "67bc33a6",
   "metadata": {},
   "outputs": [
    {
     "data": {
      "text/plain": [
       "[]"
      ]
     },
     "execution_count": 10,
     "metadata": {},
     "output_type": "execute_result"
    }
   ],
   "source": [
    "# 何も格納していない(空リスト)を作成できる\n",
    "# 空リストはプログラム実行の途中結果を記録する場合などによく使われいる\n",
    "empty = []\n",
    "empty"
   ]
  },
  {
   "cell_type": "raw",
   "id": "8f39090d",
   "metadata": {},
   "source": []
  }
 ],
 "metadata": {
  "kernelspec": {
   "display_name": "Python 3 (ipykernel)",
   "language": "python",
   "name": "python3"
  },
  "language_info": {
   "codemirror_mode": {
    "name": "ipython",
    "version": 3
   },
   "file_extension": ".py",
   "mimetype": "text/x-python",
   "name": "python",
   "nbconvert_exporter": "python",
   "pygments_lexer": "ipython3",
   "version": "3.9.13"
  }
 },
 "nbformat": 4,
 "nbformat_minor": 5
}
