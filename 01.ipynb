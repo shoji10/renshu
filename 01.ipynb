{
 "cells": [
  {
   "cell_type": "code",
   "execution_count": 2,
   "id": "e07ecbf9",
   "metadata": {},
   "outputs": [
    {
     "name": "stdout",
     "output_type": "stream",
     "text": [
      "Hello world\n"
     ]
    }
   ],
   "source": [
    "print('Hello world')"
   ]
  },
  {
   "cell_type": "markdown",
   "id": "28e3c936",
   "metadata": {},
   "source": [
    "# 見出し1\n",
    "## 見出し2\n",
    "### 見出し3\n"
   ]
  },
  {
   "cell_type": "code",
   "execution_count": 1,
   "id": "e522b489",
   "metadata": {},
   "outputs": [
    {
     "name": "stdout",
     "output_type": "stream",
     "text": [
      "え？\n"
     ]
    }
   ],
   "source": [
    "print('え？')"
   ]
  },
  {
   "cell_type": "code",
   "execution_count": 3,
   "id": "63e12d7e",
   "metadata": {},
   "outputs": [
    {
     "name": "stdout",
     "output_type": "stream",
     "text": [
      "11\n",
      "1+1\n",
      "2\n"
     ]
    }
   ],
   "source": [
    "print('1'+'1')\n",
    "print('1+1')\n",
    "print(1+1)"
   ]
  },
  {
   "cell_type": "code",
   "execution_count": 10,
   "id": "6770fcd0",
   "metadata": {},
   "outputs": [
    {
     "data": {
      "text/plain": [
       "3"
      ]
     },
     "execution_count": 10,
     "metadata": {},
     "output_type": "execute_result"
    }
   ],
   "source": [
    "int(3.14)"
   ]
  },
  {
   "cell_type": "code",
   "execution_count": 13,
   "id": "6f31134a",
   "metadata": {},
   "outputs": [
    {
     "data": {
      "text/plain": [
       "455.7142857142857"
      ]
     },
     "execution_count": 13,
     "metadata": {},
     "output_type": "execute_result"
    }
   ],
   "source": [
    "319/0.7"
   ]
  },
  {
   "cell_type": "code",
   "execution_count": 14,
   "id": "5a32ba65",
   "metadata": {},
   "outputs": [
    {
     "data": {
      "text/plain": [
       "455"
      ]
     },
     "execution_count": 14,
     "metadata": {},
     "output_type": "execute_result"
    }
   ],
   "source": [
    "int(319/0.7)"
   ]
  },
  {
   "cell_type": "code",
   "execution_count": 1,
   "id": "d74cc9ef",
   "metadata": {
    "scrolled": true
   },
   "outputs": [
    {
     "name": "stdout",
     "output_type": "stream",
     "text": [
      "その台の確率は？ ＞＞199\n",
      "突入率何％？ ＞＞65\n",
      "<class 'str'>\n",
      "<class 'str'>\n",
      "306.15384615384613分の1を引けばラッシュ突入です！あきらめないで！\n"
     ]
    }
   ],
   "source": [
    "number1 = input('その台の確率は？ ＞＞')\n",
    "number2 = input('突入率何％？ ＞＞')\n",
    "print(type(number1))\n",
    "print(type(number2))\n",
    "number1 = int(number1)\n",
    "number2 = int(number2)\n",
    "answer = number1 / (number2 /100)\n",
    "answer = str(answer)\n",
    "print(answer + '分の1を引けばラッシュ突入です！あきらめないで！')"
   ]
  },
  {
   "cell_type": "markdown",
   "id": "ebca3d6a",
   "metadata": {},
   "source": [
    "## 暗算の方が早いな..."
   ]
  },
  {
   "cell_type": "code",
   "execution_count": null,
   "id": "b3ddce59",
   "metadata": {},
   "outputs": [],
   "source": [
    "MarkDown なんか違う"
   ]
  }
 ],
 "metadata": {
  "kernelspec": {
   "display_name": "Python 3 (ipykernel)",
   "language": "python",
   "name": "python3"
  },
  "language_info": {
   "codemirror_mode": {
    "name": "ipython",
    "version": 3
   },
   "file_extension": ".py",
   "mimetype": "text/x-python",
   "name": "python",
   "nbconvert_exporter": "python",
   "pygments_lexer": "ipython3",
   "version": "3.9.12"
  }
 },
 "nbformat": 4,
 "nbformat_minor": 5
}
