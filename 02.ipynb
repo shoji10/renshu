{
 "cells": [
  {
   "cell_type": "markdown",
   "id": "3b489ae9",
   "metadata": {},
   "source": [
    "### 1-1 数値演算"
   ]
  },
  {
   "cell_type": "code",
   "execution_count": 1,
   "id": "09ce5a42",
   "metadata": {},
   "outputs": [],
   "source": [
    "from IPython import InteractiveShell\n",
    "InteractiveShell.ast_node_interactivity = \"all\" "
   ]
  },
  {
   "cell_type": "code",
   "execution_count": 2,
   "id": "5a646a16",
   "metadata": {},
   "outputs": [
    {
     "data": {
      "text/plain": [
       "9"
      ]
     },
     "execution_count": 2,
     "metadata": {},
     "output_type": "execute_result"
    },
    {
     "data": {
      "text/plain": [
       "14"
      ]
     },
     "execution_count": 2,
     "metadata": {},
     "output_type": "execute_result"
    },
    {
     "data": {
      "text/plain": [
       "49"
      ]
     },
     "execution_count": 2,
     "metadata": {},
     "output_type": "execute_result"
    }
   ],
   "source": [
    "7+2\n",
    "7*2\n",
    "7**2"
   ]
  },
  {
   "cell_type": "code",
   "execution_count": 3,
   "id": "55d0a93a",
   "metadata": {},
   "outputs": [
    {
     "data": {
      "text/plain": [
       "16"
      ]
     },
     "execution_count": 3,
     "metadata": {},
     "output_type": "execute_result"
    }
   ],
   "source": [
    "# 2**5\n",
    "#上の式は実行されない(コメントアウト)\n",
    "2**4 #こちらが実行される"
   ]
  },
  {
   "cell_type": "code",
   "execution_count": 4,
   "id": "46ce2ffa",
   "metadata": {},
   "outputs": [
    {
     "data": {
      "text/plain": [
       "4.0"
      ]
     },
     "execution_count": 4,
     "metadata": {},
     "output_type": "execute_result"
    },
    {
     "data": {
      "text/plain": [
       "4"
      ]
     },
     "execution_count": 4,
     "metadata": {},
     "output_type": "execute_result"
    }
   ],
   "source": [
    "8/2\n",
    "#整数と実数は異なる\n",
    "8//2"
   ]
  },
  {
   "cell_type": "code",
   "execution_count": 5,
   "id": "267466d0",
   "metadata": {},
   "outputs": [
    {
     "data": {
      "text/plain": [
       "True"
      ]
     },
     "execution_count": 5,
     "metadata": {},
     "output_type": "execute_result"
    },
    {
     "data": {
      "text/plain": [
       "True"
      ]
     },
     "execution_count": 5,
     "metadata": {},
     "output_type": "execute_result"
    }
   ],
   "source": [
    "7/1==7//1\n",
    "#値としては同じ\n",
    "2**4==2*8\n",
    "#値同士が等しいか調べる演算子　=="
   ]
  },
  {
   "cell_type": "code",
   "execution_count": 6,
   "id": "2feedc03",
   "metadata": {},
   "outputs": [
    {
     "data": {
      "text/plain": [
       "33.4"
      ]
     },
     "execution_count": 6,
     "metadata": {},
     "output_type": "execute_result"
    }
   ],
   "source": [
    "1+2*3**4/5\n"
   ]
  },
  {
   "cell_type": "markdown",
   "id": "e77672ee",
   "metadata": {},
   "source": [
    "##### な阪関"
   ]
  },
  {
   "cell_type": "code",
   "execution_count": 7,
   "id": "0229d1f5",
   "metadata": {},
   "outputs": [
    {
     "data": {
      "text/plain": [
       "512"
      ]
     },
     "execution_count": 7,
     "metadata": {},
     "output_type": "execute_result"
    },
    {
     "data": {
      "text/plain": [
       "512.0"
      ]
     },
     "execution_count": 7,
     "metadata": {},
     "output_type": "execute_result"
    },
    {
     "data": {
      "text/plain": [
       "512.0"
      ]
     },
     "execution_count": 7,
     "metadata": {},
     "output_type": "execute_result"
    },
    {
     "data": {
      "text/plain": [
       "512"
      ]
     },
     "execution_count": 7,
     "metadata": {},
     "output_type": "execute_result"
    }
   ],
   "source": [
    "2**10//2\n",
    "2**10//2/1\n",
    "#　/が入れば必ず実数\n",
    "float(2**10//2)\n",
    "int(2**10/2)\n",
    "# float()で小数点まで表示\n",
    "# int()は整数で表示"
   ]
  },
  {
   "cell_type": "code",
   "execution_count": 20,
   "id": "3a3cfd4b",
   "metadata": {},
   "outputs": [
    {
     "data": {
      "text/plain": [
       "15.0"
      ]
     },
     "execution_count": 20,
     "metadata": {},
     "output_type": "execute_result"
    },
    {
     "data": {
      "text/plain": [
       "1.6666666666666667"
      ]
     },
     "execution_count": 20,
     "metadata": {},
     "output_type": "execute_result"
    },
    {
     "data": {
      "text/plain": [
       "1.25"
      ]
     },
     "execution_count": 20,
     "metadata": {},
     "output_type": "execute_result"
    },
    {
     "data": {
      "text/plain": [
       "1.25"
      ]
     },
     "execution_count": 20,
     "metadata": {},
     "output_type": "execute_result"
    },
    {
     "data": {
      "text/plain": [
       "125.0"
      ]
     },
     "execution_count": 20,
     "metadata": {},
     "output_type": "execute_result"
    }
   ],
   "source": [
    "# **べき乗は右に結合\n",
    "# /は左に結合\n",
    "10/2*3\n",
    "10/(2*3)\n",
    "10/2**3\n",
    "10/(2**3)\n",
    "(10/2)**3"
   ]
  },
  {
   "cell_type": "code",
   "execution_count": 26,
   "id": "7236abdf",
   "metadata": {},
   "outputs": [
    {
     "data": {
      "text/plain": [
       "243"
      ]
     },
     "execution_count": 26,
     "metadata": {},
     "output_type": "execute_result"
    },
    {
     "data": {
      "text/plain": [
       "243"
      ]
     },
     "execution_count": 26,
     "metadata": {},
     "output_type": "execute_result"
    },
    {
     "data": {
      "text/plain": [
       "0.6"
      ]
     },
     "execution_count": 26,
     "metadata": {},
     "output_type": "execute_result"
    }
   ],
   "source": [
    "#空白位置、全角に注意\n",
    "3**5\n",
    "3 **5\n",
    "3// 5"
   ]
  },
  {
   "cell_type": "code",
   "execution_count": 24,
   "id": "54f807e6",
   "metadata": {},
   "outputs": [
    {
     "ename": "SyntaxError",
     "evalue": "invalid syntax (3879154571.py, line 1)",
     "output_type": "error",
     "traceback": [
      "\u001b[1;36m  Input \u001b[1;32mIn [24]\u001b[1;36m\u001b[0m\n\u001b[1;33m    3* *5\u001b[0m\n\u001b[1;37m       ^\u001b[0m\n\u001b[1;31mSyntaxError\u001b[0m\u001b[1;31m:\u001b[0m invalid syntax\n"
     ]
    }
   ],
   "source": [
    "3* *5"
   ]
  },
  {
   "cell_type": "code",
   "execution_count": 30,
   "id": "0a681007",
   "metadata": {},
   "outputs": [
    {
     "data": {
      "text/plain": [
       "0.479425538604203"
      ]
     },
     "execution_count": 30,
     "metadata": {},
     "output_type": "execute_result"
    },
    {
     "data": {
      "text/plain": [
       "1.4142135623730951"
      ]
     },
     "execution_count": 30,
     "metadata": {},
     "output_type": "execute_result"
    }
   ],
   "source": [
    "import math\n",
    "math.sin(1/2)\n",
    "math.sqrt(2)"
   ]
  },
  {
   "cell_type": "markdown",
   "id": "3efdd85b",
   "metadata": {},
   "source": [
    "関数はモジュールで提供されている\n",
    "import mathとmath.(関数名) tabキーで候補"
   ]
  },
  {
   "cell_type": "code",
   "execution_count": null,
   "id": "3a8c93a4",
   "metadata": {},
   "outputs": [],
   "source": [
    "# 黄金比を求める　（√5＋１）÷2\n",
    "import math\n",
    "(math.sqrt(5) + 1)/2"
   ]
  },
  {
   "cell_type": "markdown",
   "id": "1efe9100",
   "metadata": {},
   "source": [
    "### 1-2 変数と関数の基礎"
   ]
  },
  {
   "cell_type": "code",
   "execution_count": 32,
   "id": "28f27661",
   "metadata": {},
   "outputs": [
    {
     "data": {
      "text/plain": [
       "319.7"
      ]
     },
     "execution_count": 32,
     "metadata": {},
     "output_type": "execute_result"
    }
   ],
   "source": [
    "eva=319.7"
   ]
  },
  {
   "cell_type": "code",
   "execution_count": 33,
   "id": "c2b2b9c1",
   "metadata": {},
   "outputs": [
    {
     "data": {
      "text/plain": [
       "319.7"
      ]
     },
     "execution_count": 33,
     "metadata": {},
     "output_type": "execute_result"
    }
   ],
   "source": [
    "eva"
   ]
  },
  {
   "cell_type": "code",
   "execution_count": null,
   "id": "de02772e",
   "metadata": {},
   "outputs": [],
   "source": [
    "# BMI指数の計算式を作る\n",
    "# h→身長 w→体重\n",
    "h=175\n",
    "w=70"
   ]
  },
  {
   "cell_type": "code",
   "execution_count": 46,
   "id": "3d480cb0",
   "metadata": {},
   "outputs": [
    {
     "data": {
      "text/plain": [
       "22.857142857142858"
      ]
     },
     "execution_count": 46,
     "metadata": {},
     "output_type": "execute_result"
    }
   ],
   "source": [
    "w/(h/100)**2"
   ]
  },
  {
   "cell_type": "code",
   "execution_count": 43,
   "id": "1ab6126b",
   "metadata": {
    "scrolled": true
   },
   "outputs": [
    {
     "ename": "NameError",
     "evalue": "name 'BMI' is not defined",
     "output_type": "error",
     "traceback": [
      "\u001b[1;31m---------------------------------------------------------------------------\u001b[0m",
      "\u001b[1;31mNameError\u001b[0m                                 Traceback (most recent call last)",
      "Input \u001b[1;32mIn [43]\u001b[0m, in \u001b[0;36m<cell line: 2>\u001b[1;34m()\u001b[0m\n\u001b[0;32m      1\u001b[0m \u001b[38;5;66;03m# 定義されていない文を実行しても動かない\u001b[39;00m\n\u001b[1;32m----> 2\u001b[0m \u001b[43mBMI\u001b[49m\n",
      "\u001b[1;31mNameError\u001b[0m: name 'BMI' is not defined"
     ]
    }
   ],
   "source": [
    "# 定義されていない文を実行しても動かない\n",
    "BMI"
   ]
  },
  {
   "cell_type": "code",
   "execution_count": 3,
   "id": "2ce0667b",
   "metadata": {
    "scrolled": true
   },
   "outputs": [
    {
     "name": "stdout",
     "output_type": "stream",
     "text": [
      "身長200\n",
      "体重100\n",
      "あなたのBMIは25.0\n"
     ]
    }
   ],
   "source": [
    "h = input('身長')\n",
    "w = input('体重')\n",
    "h = int(h)\n",
    "w = int(w)\n",
    "bmi=w/(h/100)**2\n",
    "bmi = str(bmi)\n",
    "print('あなたのBMIは'+ bmi)"
   ]
  },
  {
   "cell_type": "markdown",
   "id": "e09498e7",
   "metadata": {},
   "source": [
    "プログラミング言語における代入とはassignment(代入)"
   ]
  },
  {
   "cell_type": "code",
   "execution_count": 4,
   "id": "335c2708",
   "metadata": {},
   "outputs": [],
   "source": [
    "a=200\n",
    "a=a-10"
   ]
  },
  {
   "cell_type": "code",
   "execution_count": 5,
   "id": "1cc1be2d",
   "metadata": {},
   "outputs": [
    {
     "data": {
      "text/plain": [
       "190"
      ]
     },
     "execution_count": 5,
     "metadata": {},
     "output_type": "execute_result"
    }
   ],
   "source": [
    "a"
   ]
  },
  {
   "cell_type": "code",
   "execution_count": 6,
   "id": "57173420",
   "metadata": {},
   "outputs": [],
   "source": [
    "b=200\n",
    "b-=10\n",
    "# n=n-10 と n-=10 は同じ"
   ]
  },
  {
   "cell_type": "code",
   "execution_count": 7,
   "id": "7826ea2f",
   "metadata": {},
   "outputs": [
    {
     "data": {
      "text/plain": [
       "190"
      ]
     },
     "execution_count": 7,
     "metadata": {},
     "output_type": "execute_result"
    }
   ],
   "source": [
    "b"
   ]
  },
  {
   "cell_type": "code",
   "execution_count": 8,
   "id": "ca0ef50e",
   "metadata": {},
   "outputs": [
    {
     "data": {
      "text/plain": [
       "36100"
      ]
     },
     "execution_count": 8,
     "metadata": {},
     "output_type": "execute_result"
    }
   ],
   "source": [
    "a*b"
   ]
  },
  {
   "cell_type": "code",
   "execution_count": 14,
   "id": "438f616e",
   "metadata": {},
   "outputs": [],
   "source": [
    "def bmi(h,w):\n",
    "# 関数を定義する　関数名(引数,引数)\n",
    "# 上の行:以下文が関数定義の本体(式)\n",
    " return w/(h/100)**2\n",
    "# return文 空白ひとつ入る"
   ]
  },
  {
   "cell_type": "code",
   "execution_count": 18,
   "id": "cb17e551",
   "metadata": {},
   "outputs": [
    {
     "data": {
      "text/plain": [
       "25.0"
      ]
     },
     "execution_count": 18,
     "metadata": {},
     "output_type": "execute_result"
    },
    {
     "data": {
      "text/plain": [
       "91.42857142857143"
      ]
     },
     "execution_count": 18,
     "metadata": {},
     "output_type": "execute_result"
    }
   ],
   "source": [
    "bmi(200,100)\n",
    "# defで関数定義を行いその名前を入力し、引数を入力\n",
    "# →関数定義次行のreturn文の式が実行された\n",
    "2*bmi(175,70)*2\n",
    "# 関数定義は演算式の一部だからほかの式に組み込むことができる"
   ]
  },
  {
   "cell_type": "code",
   "execution_count": 25,
   "id": "6ccd6c32",
   "metadata": {},
   "outputs": [
    {
     "data": {
      "text/plain": [
       "1.7320508075688772"
      ]
     },
     "execution_count": 25,
     "metadata": {},
     "output_type": "execute_result"
    }
   ],
   "source": [
    "import math\n",
    "math.sqrt(3)"
   ]
  },
  {
   "cell_type": "code",
   "execution_count": 2,
   "id": "e1904691",
   "metadata": {},
   "outputs": [],
   "source": [
    "def felt_air_temperature(temperature,humidity):\n",
    "    return temperature - 1/2.3*(temperature - 10)* (0.8 - humidity /100)"
   ]
  },
  {
   "cell_type": "code",
   "execution_count": 5,
   "id": "d76ff538",
   "metadata": {},
   "outputs": [
    {
     "data": {
      "text/plain": [
       "24.0"
      ]
     },
     "execution_count": 5,
     "metadata": {},
     "output_type": "execute_result"
    }
   ],
   "source": [
    "felt_air_temperature(24,80)"
   ]
  },
  {
   "cell_type": "code",
   "execution_count": 5,
   "id": "666b326b",
   "metadata": {},
   "outputs": [],
   "source": [
    "def ft_to_cm(f,i):\n",
    "    return f*30.48,i/12*30.48"
   ]
  },
  {
   "cell_type": "code",
   "execution_count": 9,
   "id": "8b8562a1",
   "metadata": {},
   "outputs": [
    {
     "data": {
      "text/plain": [
       "(304.8, 12.700000000000001)"
      ]
     },
     "execution_count": 9,
     "metadata": {},
     "output_type": "execute_result"
    }
   ],
   "source": [
    "ft_to_cm(10,5)"
   ]
  },
  {
   "cell_type": "code",
   "execution_count": 10,
   "id": "4e81a8fe",
   "metadata": {},
   "outputs": [
    {
     "ename": "TypeError",
     "evalue": "unsupported operand type(s) for -: 'tuple' and 'float'",
     "output_type": "error",
     "traceback": [
      "\u001b[1;31m---------------------------------------------------------------------------\u001b[0m",
      "\u001b[1;31mTypeError\u001b[0m                                 Traceback (most recent call last)",
      "Input \u001b[1;32mIn [10]\u001b[0m, in \u001b[0;36m<cell line: 1>\u001b[1;34m()\u001b[0m\n\u001b[1;32m----> 1\u001b[0m \u001b[38;5;28;01massert\u001b[39;00m \u001b[38;5;28mround\u001b[39m(\u001b[43mft_to_cm\u001b[49m\u001b[43m(\u001b[49m\u001b[38;5;241;43m5\u001b[39;49m\u001b[43m,\u001b[49m\u001b[43m \u001b[49m\u001b[38;5;241;43m2\u001b[39;49m\u001b[43m)\u001b[49m\u001b[43m \u001b[49m\u001b[38;5;241;43m-\u001b[39;49m\u001b[43m \u001b[49m\u001b[38;5;241;43m157.48\u001b[39;49m, \u001b[38;5;241m6\u001b[39m) \u001b[38;5;241m==\u001b[39m \u001b[38;5;241m0\u001b[39m\n",
      "\u001b[1;31mTypeError\u001b[0m: unsupported operand type(s) for -: 'tuple' and 'float'"
     ]
    }
   ],
   "source": [
    "assert round(ft_to_cm(5, 2) - 157.48, 6) == 0"
   ]
  },
  {
   "cell_type": "code",
   "execution_count": 11,
   "id": "28ae8495",
   "metadata": {},
   "outputs": [],
   "source": [
    "def quadratic(a,b,c,x):\n",
    "    return a*x**2+b*x+c\n",
    "# y=ax²+bx+cの式"
   ]
  },
  {
   "cell_type": "code",
   "execution_count": 18,
   "id": "9e66e949",
   "metadata": {},
   "outputs": [
    {
     "data": {
      "text/plain": [
       "27"
      ]
     },
     "execution_count": 18,
     "metadata": {},
     "output_type": "execute_result"
    }
   ],
   "source": [
    "quadratic(1,2,3,4)"
   ]
  },
  {
   "cell_type": "code",
   "execution_count": 19,
   "id": "d8b19a96",
   "metadata": {},
   "outputs": [],
   "source": [
    "assert quadratic(1, 2, 1, 3) == 16"
   ]
  },
  {
   "cell_type": "code",
   "execution_count": 9,
   "id": "7dca0171",
   "metadata": {
    "scrolled": true
   },
   "outputs": [],
   "source": [
    "# ヘロンの公式によって、 与えられた三辺の長さに対して三角形の面積を返す\n",
    "# 式の中で平方根を使用するため数式を入れる\n",
    "import math\n",
    "\n",
    "# heronと命名\n",
    "def heron(a,b,c):\n",
    "# 下の式に使用する共通する数字をsと置く\n",
    "    s = 0.5*(a+b+c)\n",
    "    print('式の中のsは',s)\n",
    "# ヘロンの公式\n",
    "    return math.sqrt(s * (s-a) * (s-b) * (s-c))"
   ]
  },
  {
   "cell_type": "markdown",
   "id": "bf7d7c40",
   "metadata": {},
   "source": [
    "sは式の中でのみ有効な変数 return文の式を簡略化できる!?\n",
    "print関数で変数の中の数字を見ることもできる"
   ]
  },
  {
   "cell_type": "code",
   "execution_count": 22,
   "id": "9d3372b3",
   "metadata": {},
   "outputs": [
    {
     "name": "stdout",
     "output_type": "stream",
     "text": [
      "式の中のsは 7.5\n"
     ]
    },
    {
     "data": {
      "text/plain": [
       "19.84313483298443"
      ]
     },
     "execution_count": 22,
     "metadata": {},
     "output_type": "execute_result"
    },
    {
     "name": "stdout",
     "output_type": "stream",
     "text": [
      "The value of s is 7.5\n",
      "9.921567416492215\n"
     ]
    },
    {
     "ename": "TypeError",
     "evalue": "unsupported operand type(s) for *: 'NoneType' and 'int'",
     "output_type": "error",
     "traceback": [
      "\u001b[1;31m---------------------------------------------------------------------------\u001b[0m",
      "\u001b[1;31mTypeError\u001b[0m                                 Traceback (most recent call last)",
      "Input \u001b[1;32mIn [22]\u001b[0m, in \u001b[0;36m<cell line: 9>\u001b[1;34m()\u001b[0m\n\u001b[0;32m      4\u001b[0m     \u001b[38;5;28;01mreturn\u001b[39;00m \u001b[38;5;28mprint\u001b[39m(math\u001b[38;5;241m.\u001b[39msqrt(s \u001b[38;5;241m*\u001b[39m (s\u001b[38;5;241m-\u001b[39ma) \u001b[38;5;241m*\u001b[39m (s\u001b[38;5;241m-\u001b[39mb) \u001b[38;5;241m*\u001b[39m (s\u001b[38;5;241m-\u001b[39mc)))\n\u001b[0;32m      8\u001b[0m heron(\u001b[38;5;241m4\u001b[39m,\u001b[38;5;241m5\u001b[39m,\u001b[38;5;241m6\u001b[39m)\u001b[38;5;241m*\u001b[39m\u001b[38;5;241m2\u001b[39m\n\u001b[1;32m----> 9\u001b[0m \u001b[43mheron1\u001b[49m\u001b[43m(\u001b[49m\u001b[38;5;241;43m4\u001b[39;49m\u001b[43m,\u001b[49m\u001b[38;5;241;43m5\u001b[39;49m\u001b[43m,\u001b[49m\u001b[38;5;241;43m6\u001b[39;49m\u001b[43m)\u001b[49m\u001b[38;5;241;43m*\u001b[39;49m\u001b[38;5;241;43m2\u001b[39;49m\n",
      "\u001b[1;31mTypeError\u001b[0m: unsupported operand type(s) for *: 'NoneType' and 'int'"
     ]
    }
   ],
   "source": [
    "def heron1(a,b,c):\n",
    "    s = 0.5*(a+b+c)\n",
    "    print('The value of s is', s)\n",
    "    return print(math.sqrt(s * (s-a) * (s-b) * (s-c)))\n",
    "\n",
    "\n",
    "\n",
    "heron(4,5,6)*2\n",
    "heron1(4,5,6)*2"
   ]
  },
  {
   "cell_type": "code",
   "execution_count": 10,
   "id": "1e94aa4c",
   "metadata": {
    "scrolled": true
   },
   "outputs": [
    {
     "name": "stdout",
     "output_type": "stream",
     "text": [
      "式の中のsは 6.0\n"
     ]
    },
    {
     "data": {
      "text/plain": [
       "6.0"
      ]
     },
     "execution_count": 10,
     "metadata": {},
     "output_type": "execute_result"
    }
   ],
   "source": [
    "heron(3,4,5)"
   ]
  },
  {
   "cell_type": "code",
   "execution_count": 11,
   "id": "1a0a44fb",
   "metadata": {
    "scrolled": true
   },
   "outputs": [
    {
     "data": {
      "text/plain": [
       "<function __main__.heron(a, b, c)>"
      ]
     },
     "execution_count": 11,
     "metadata": {},
     "output_type": "execute_result"
    },
    {
     "ename": "NameError",
     "evalue": "name 's' is not defined",
     "output_type": "error",
     "traceback": [
      "\u001b[1;31m---------------------------------------------------------------------------\u001b[0m",
      "\u001b[1;31mNameError\u001b[0m                                 Traceback (most recent call last)",
      "Input \u001b[1;32mIn [11]\u001b[0m, in \u001b[0;36m<cell line: 2>\u001b[1;34m()\u001b[0m\n\u001b[0;32m      1\u001b[0m heron\n\u001b[1;32m----> 2\u001b[0m \u001b[43ms\u001b[49m\n",
      "\u001b[1;31mNameError\u001b[0m: name 's' is not defined"
     ]
    }
   ],
   "source": [
    "heron\n",
    "s"
   ]
  },
  {
   "cell_type": "markdown",
   "id": "ccc4b1fb",
   "metadata": {},
   "source": [
    "heronの中で使用した式は式内部でのみ有効なので外から呼び出しても存在しない。"
   ]
  },
  {
   "cell_type": "code",
   "execution_count": 12,
   "id": "6930f148",
   "metadata": {},
   "outputs": [
    {
     "name": "stdout",
     "output_type": "stream",
     "text": [
      "式の中のsは 6.0\n"
     ]
    },
    {
     "data": {
      "text/plain": [
       "6.0"
      ]
     },
     "execution_count": 12,
     "metadata": {},
     "output_type": "execute_result"
    }
   ],
   "source": [
    "s=100\n",
    "heron(3,4,5,)"
   ]
  },
  {
   "cell_type": "code",
   "execution_count": 13,
   "id": "e2f5a2c7",
   "metadata": {},
   "outputs": [
    {
     "data": {
      "text/plain": [
       "100"
      ]
     },
     "execution_count": 13,
     "metadata": {},
     "output_type": "execute_result"
    }
   ],
   "source": [
    "s\n",
    "# heronの中ではローカル変数は3であるが関数の外では別もの"
   ]
  },
  {
   "cell_type": "code",
   "execution_count": 10,
   "id": "79ff7b67",
   "metadata": {},
   "outputs": [
    {
     "name": "stdout",
     "output_type": "stream",
     "text": [
      "身長200\n",
      "体重100\n"
     ]
    },
    {
     "data": {
      "text/plain": [
       "'BMIは25.0'"
      ]
     },
     "execution_count": 10,
     "metadata": {},
     "output_type": "execute_result"
    }
   ],
   "source": [
    "def BMI():\n",
    "    # 身長を入力してもらう\n",
    "    height = float(input('身長'))\n",
    "    # 体重を入力してもらう\n",
    "    weight = float(input('体重'))\n",
    "    \n",
    "    # BMIを求める式をformulaに格納\n",
    "    formula = weight / (height/100.0) **2\n",
    "    # 文章として出力するためにstrに変換\n",
    "    formula = str(formula)\n",
    "    # 返値として返し、'BMIは'という文章を追加\n",
    "    return ('BMIは') + formula\n",
    "\n",
    "\n",
    "BMI()"
   ]
  },
  {
   "cell_type": "markdown",
   "id": "801b6e9e",
   "metadata": {},
   "source": [
    "リーダブルコードを意識して書いていく。"
   ]
  },
  {
   "cell_type": "code",
   "execution_count": 24,
   "id": "201d12c7",
   "metadata": {
    "scrolled": true
   },
   "outputs": [],
   "source": [
    "# 関数の中で代入が行われない変数はグローバル変数とみなされる\n",
    "g=9.9"
   ]
  },
  {
   "cell_type": "code",
   "execution_count": 25,
   "id": "f68e1e17",
   "metadata": {},
   "outputs": [
    {
     "data": {
      "text/plain": [
       "99.0"
      ]
     },
     "execution_count": 25,
     "metadata": {},
     "output_type": "execute_result"
    }
   ],
   "source": [
    "# サンプルでforceと定義\n",
    "def force(m):\n",
    "# グローバル変数(g)とmを掛ける\n",
    "    return m*g\n",
    "\n",
    "\n",
    "force(10)"
   ]
  },
  {
   "cell_type": "code",
   "execution_count": 26,
   "id": "b0b76136",
   "metadata": {},
   "outputs": [
    {
     "data": {
      "text/plain": [
       "33.0"
      ]
     },
     "execution_count": 26,
     "metadata": {},
     "output_type": "execute_result"
    }
   ],
   "source": [
    "g = g/3\n",
    "\n",
    "\n",
    "# グローバル変数を変更してからforceを実行すると変更後の値が用いられる\n",
    "force(10)"
   ]
  }
 ],
 "metadata": {
  "kernelspec": {
   "display_name": "Python 3 (ipykernel)",
   "language": "python",
   "name": "python3"
  },
  "language_info": {
   "codemirror_mode": {
    "name": "ipython",
    "version": 3
   },
   "file_extension": ".py",
   "mimetype": "text/x-python",
   "name": "python",
   "nbconvert_exporter": "python",
   "pygments_lexer": "ipython3",
   "version": "3.9.12"
  }
 },
 "nbformat": 4,
 "nbformat_minor": 5
}
