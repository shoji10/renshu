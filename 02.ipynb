{
 "cells": [
  {
   "cell_type": "markdown",
   "id": "3b489ae9",
   "metadata": {},
   "source": [
    "### 1-1 数値演算"
   ]
  },
  {
   "cell_type": "code",
   "execution_count": 1,
   "id": "09ce5a42",
   "metadata": {},
   "outputs": [],
   "source": [
    "from IPython import InteractiveShell\n",
    "InteractiveShell.ast_node_interactivity = \"all\" "
   ]
  },
  {
   "cell_type": "code",
   "execution_count": 2,
   "id": "5a646a16",
   "metadata": {},
   "outputs": [
    {
     "data": {
      "text/plain": [
       "9"
      ]
     },
     "execution_count": 2,
     "metadata": {},
     "output_type": "execute_result"
    },
    {
     "data": {
      "text/plain": [
       "14"
      ]
     },
     "execution_count": 2,
     "metadata": {},
     "output_type": "execute_result"
    },
    {
     "data": {
      "text/plain": [
       "49"
      ]
     },
     "execution_count": 2,
     "metadata": {},
     "output_type": "execute_result"
    }
   ],
   "source": [
    "7+2\n",
    "7*2\n",
    "7**2"
   ]
  },
  {
   "cell_type": "code",
   "execution_count": 3,
   "id": "55d0a93a",
   "metadata": {},
   "outputs": [
    {
     "data": {
      "text/plain": [
       "16"
      ]
     },
     "execution_count": 3,
     "metadata": {},
     "output_type": "execute_result"
    }
   ],
   "source": [
    "# 2**5\n",
    "#上の式は実行されない(コメントアウト)\n",
    "2**4 #こちらが実行される"
   ]
  },
  {
   "cell_type": "code",
   "execution_count": 4,
   "id": "46ce2ffa",
   "metadata": {},
   "outputs": [
    {
     "data": {
      "text/plain": [
       "4.0"
      ]
     },
     "execution_count": 4,
     "metadata": {},
     "output_type": "execute_result"
    },
    {
     "data": {
      "text/plain": [
       "4"
      ]
     },
     "execution_count": 4,
     "metadata": {},
     "output_type": "execute_result"
    }
   ],
   "source": [
    "8/2\n",
    "#整数と実数は異なる\n",
    "8//2"
   ]
  },
  {
   "cell_type": "code",
   "execution_count": 5,
   "id": "267466d0",
   "metadata": {},
   "outputs": [
    {
     "data": {
      "text/plain": [
       "True"
      ]
     },
     "execution_count": 5,
     "metadata": {},
     "output_type": "execute_result"
    },
    {
     "data": {
      "text/plain": [
       "True"
      ]
     },
     "execution_count": 5,
     "metadata": {},
     "output_type": "execute_result"
    }
   ],
   "source": [
    "7/1==7//1\n",
    "#値としては同じ\n",
    "2**4==2*8\n",
    "#値同士が等しいか調べる演算子　=="
   ]
  },
  {
   "cell_type": "code",
   "execution_count": 6,
   "id": "2feedc03",
   "metadata": {},
   "outputs": [
    {
     "data": {
      "text/plain": [
       "33.4"
      ]
     },
     "execution_count": 6,
     "metadata": {},
     "output_type": "execute_result"
    }
   ],
   "source": [
    "1+2*3**4/5\n"
   ]
  },
  {
   "cell_type": "markdown",
   "id": "e77672ee",
   "metadata": {},
   "source": [
    "##### な阪関"
   ]
  },
  {
   "cell_type": "code",
   "execution_count": 7,
   "id": "0229d1f5",
   "metadata": {},
   "outputs": [
    {
     "data": {
      "text/plain": [
       "512"
      ]
     },
     "execution_count": 7,
     "metadata": {},
     "output_type": "execute_result"
    },
    {
     "data": {
      "text/plain": [
       "512.0"
      ]
     },
     "execution_count": 7,
     "metadata": {},
     "output_type": "execute_result"
    },
    {
     "data": {
      "text/plain": [
       "512.0"
      ]
     },
     "execution_count": 7,
     "metadata": {},
     "output_type": "execute_result"
    },
    {
     "data": {
      "text/plain": [
       "512"
      ]
     },
     "execution_count": 7,
     "metadata": {},
     "output_type": "execute_result"
    }
   ],
   "source": [
    "2**10//2\n",
    "2**10//2/1\n",
    "#　/が入れば必ず実数\n",
    "float(2**10//2)\n",
    "int(2**10/2)\n",
    "# float()で小数点まで表示\n",
    "# int()は整数で表示"
   ]
  },
  {
   "cell_type": "code",
   "execution_count": 20,
   "id": "3a3cfd4b",
   "metadata": {},
   "outputs": [
    {
     "data": {
      "text/plain": [
       "15.0"
      ]
     },
     "execution_count": 20,
     "metadata": {},
     "output_type": "execute_result"
    },
    {
     "data": {
      "text/plain": [
       "1.6666666666666667"
      ]
     },
     "execution_count": 20,
     "metadata": {},
     "output_type": "execute_result"
    },
    {
     "data": {
      "text/plain": [
       "1.25"
      ]
     },
     "execution_count": 20,
     "metadata": {},
     "output_type": "execute_result"
    },
    {
     "data": {
      "text/plain": [
       "1.25"
      ]
     },
     "execution_count": 20,
     "metadata": {},
     "output_type": "execute_result"
    },
    {
     "data": {
      "text/plain": [
       "125.0"
      ]
     },
     "execution_count": 20,
     "metadata": {},
     "output_type": "execute_result"
    }
   ],
   "source": [
    "# **べき乗は右に結合\n",
    "# /は左に結合\n",
    "10/2*3\n",
    "10/(2*3)\n",
    "10/2**3\n",
    "10/(2**3)\n",
    "(10/2)**3"
   ]
  },
  {
   "cell_type": "code",
   "execution_count": 26,
   "id": "7236abdf",
   "metadata": {},
   "outputs": [
    {
     "data": {
      "text/plain": [
       "243"
      ]
     },
     "execution_count": 26,
     "metadata": {},
     "output_type": "execute_result"
    },
    {
     "data": {
      "text/plain": [
       "243"
      ]
     },
     "execution_count": 26,
     "metadata": {},
     "output_type": "execute_result"
    },
    {
     "data": {
      "text/plain": [
       "0.6"
      ]
     },
     "execution_count": 26,
     "metadata": {},
     "output_type": "execute_result"
    }
   ],
   "source": [
    "#空白位置、全角に注意\n",
    "3**5\n",
    "3 **5\n",
    "3// 5"
   ]
  },
  {
   "cell_type": "code",
   "execution_count": 24,
   "id": "54f807e6",
   "metadata": {},
   "outputs": [
    {
     "ename": "SyntaxError",
     "evalue": "invalid syntax (3879154571.py, line 1)",
     "output_type": "error",
     "traceback": [
      "\u001b[1;36m  Input \u001b[1;32mIn [24]\u001b[1;36m\u001b[0m\n\u001b[1;33m    3* *5\u001b[0m\n\u001b[1;37m       ^\u001b[0m\n\u001b[1;31mSyntaxError\u001b[0m\u001b[1;31m:\u001b[0m invalid syntax\n"
     ]
    }
   ],
   "source": [
    "3* *5"
   ]
  },
  {
   "cell_type": "code",
   "execution_count": 30,
   "id": "0a681007",
   "metadata": {},
   "outputs": [
    {
     "data": {
      "text/plain": [
       "0.479425538604203"
      ]
     },
     "execution_count": 30,
     "metadata": {},
     "output_type": "execute_result"
    },
    {
     "data": {
      "text/plain": [
       "1.4142135623730951"
      ]
     },
     "execution_count": 30,
     "metadata": {},
     "output_type": "execute_result"
    }
   ],
   "source": [
    "import math\n",
    "math.sin(1/2)\n",
    "math.sqrt(2)"
   ]
  },
  {
   "cell_type": "markdown",
   "id": "3efdd85b",
   "metadata": {},
   "source": [
    "関数はモジュールで提供されている\n",
    "import mathとmath.(関数名) tabキーで候補"
   ]
  },
  {
   "cell_type": "code",
   "execution_count": null,
   "id": "3a8c93a4",
   "metadata": {},
   "outputs": [],
   "source": [
    "# 黄金比を求める　（√5＋１）÷2\n",
    "import math\n",
    "(math.sqrt(5) + 1)/2"
   ]
  },
  {
   "cell_type": "markdown",
   "id": "1efe9100",
   "metadata": {},
   "source": [
    "### 1-2 変数と関数の基礎"
   ]
  },
  {
   "cell_type": "code",
   "execution_count": 32,
   "id": "28f27661",
   "metadata": {},
   "outputs": [
    {
     "data": {
      "text/plain": [
       "319.7"
      ]
     },
     "execution_count": 32,
     "metadata": {},
     "output_type": "execute_result"
    }
   ],
   "source": [
    "eva=319.7"
   ]
  },
  {
   "cell_type": "code",
   "execution_count": 33,
   "id": "c2b2b9c1",
   "metadata": {},
   "outputs": [
    {
     "data": {
      "text/plain": [
       "319.7"
      ]
     },
     "execution_count": 33,
     "metadata": {},
     "output_type": "execute_result"
    }
   ],
   "source": [
    "eva"
   ]
  },
  {
   "cell_type": "code",
   "execution_count": 45,
   "id": "aa79342c",
   "metadata": {},
   "outputs": [],
   "source": [
    "# BMI指数の計算式を作る\n",
    "# h→身長 w→体重\n",
    "h=175\n",
    "w=70"
   ]
  },
  {
   "cell_type": "code",
   "execution_count": 46,
   "id": "3d480cb0",
   "metadata": {},
   "outputs": [
    {
     "data": {
      "text/plain": [
       "22.857142857142858"
      ]
     },
     "execution_count": 46,
     "metadata": {},
     "output_type": "execute_result"
    }
   ],
   "source": [
    "w/(h/100)**2"
   ]
  },
  {
   "cell_type": "code",
   "execution_count": 43,
   "id": "1ab6126b",
   "metadata": {
    "scrolled": true
   },
   "outputs": [
    {
     "ename": "NameError",
     "evalue": "name 'BMI' is not defined",
     "output_type": "error",
     "traceback": [
      "\u001b[1;31m---------------------------------------------------------------------------\u001b[0m",
      "\u001b[1;31mNameError\u001b[0m                                 Traceback (most recent call last)",
      "Input \u001b[1;32mIn [43]\u001b[0m, in \u001b[0;36m<cell line: 2>\u001b[1;34m()\u001b[0m\n\u001b[0;32m      1\u001b[0m \u001b[38;5;66;03m# 定義されていない文を実行しても動かない\u001b[39;00m\n\u001b[1;32m----> 2\u001b[0m \u001b[43mBMI\u001b[49m\n",
      "\u001b[1;31mNameError\u001b[0m: name 'BMI' is not defined"
     ]
    }
   ],
   "source": [
    "# 定義されていない文を実行しても動かない\n",
    "BMI"
   ]
  },
  {
   "cell_type": "code",
   "execution_count": 64,
   "id": "2ce0667b",
   "metadata": {},
   "outputs": [
    {
     "name": "stdout",
     "output_type": "stream",
     "text": [
      "身長175\n",
      "体重80\n",
      "あなたのBMIは26.122448979591837\n"
     ]
    }
   ],
   "source": [
    "h = input('身長')\n",
    "w = input('体重')\n",
    "h = int(h)\n",
    "w = int(w)\n",
    "bmi=w/(h/100)**2\n",
    "bmi = str(bmi)\n",
    "print('あなたのBMIは'+ bmi)"
   ]
  }
 ],
 "metadata": {
  "kernelspec": {
   "display_name": "Python 3 (ipykernel)",
   "language": "python",
   "name": "python3"
  },
  "language_info": {
   "codemirror_mode": {
    "name": "ipython",
    "version": 3
   },
   "file_extension": ".py",
   "mimetype": "text/x-python",
   "name": "python",
   "nbconvert_exporter": "python",
   "pygments_lexer": "ipython3",
   "version": "3.9.12"
  }
 },
 "nbformat": 4,
 "nbformat_minor": 5
}
