{
 "cells": [
  {
   "cell_type": "markdown",
   "id": "3b489ae9",
   "metadata": {},
   "source": [
    "### 1-1 数値演算"
   ]
  },
  {
   "cell_type": "code",
   "execution_count": 13,
   "id": "09ce5a42",
   "metadata": {},
   "outputs": [],
   "source": [
    "from IPython import InteractiveShell\n",
    "InteractiveShell.ast_node_interactivity = \"all\" "
   ]
  },
  {
   "cell_type": "code",
   "execution_count": 17,
   "id": "5a646a16",
   "metadata": {},
   "outputs": [
    {
     "data": {
      "text/plain": [
       "9"
      ]
     },
     "execution_count": 17,
     "metadata": {},
     "output_type": "execute_result"
    },
    {
     "data": {
      "text/plain": [
       "14"
      ]
     },
     "execution_count": 17,
     "metadata": {},
     "output_type": "execute_result"
    },
    {
     "data": {
      "text/plain": [
       "49"
      ]
     },
     "execution_count": 17,
     "metadata": {},
     "output_type": "execute_result"
    }
   ],
   "source": [
    "7+2\n",
    "7*2\n",
    "7**2"
   ]
  },
  {
   "cell_type": "code",
   "execution_count": 12,
   "id": "55d0a93a",
   "metadata": {},
   "outputs": [
    {
     "data": {
      "text/plain": [
       "16"
      ]
     },
     "execution_count": 12,
     "metadata": {},
     "output_type": "execute_result"
    }
   ],
   "source": [
    "# 2**5\n",
    "#上の式は実行されない(コメントアウト)\n",
    "2**4 #こちらが実行される"
   ]
  },
  {
   "cell_type": "code",
   "execution_count": 15,
   "id": "46ce2ffa",
   "metadata": {},
   "outputs": [
    {
     "data": {
      "text/plain": [
       "4.0"
      ]
     },
     "execution_count": 15,
     "metadata": {},
     "output_type": "execute_result"
    },
    {
     "data": {
      "text/plain": [
       "4"
      ]
     },
     "execution_count": 15,
     "metadata": {},
     "output_type": "execute_result"
    }
   ],
   "source": [
    "8/2\n",
    "#整数と実数は異なる\n",
    "8//2"
   ]
  },
  {
   "cell_type": "code",
   "execution_count": 20,
   "id": "267466d0",
   "metadata": {},
   "outputs": [
    {
     "data": {
      "text/plain": [
       "True"
      ]
     },
     "execution_count": 20,
     "metadata": {},
     "output_type": "execute_result"
    },
    {
     "data": {
      "text/plain": [
       "True"
      ]
     },
     "execution_count": 20,
     "metadata": {},
     "output_type": "execute_result"
    }
   ],
   "source": [
    "7/1==7//1\n",
    "#値としては同じ\n",
    "2**4==2*8\n",
    "#値同士が等しいか調べる演算子　=="
   ]
  },
  {
   "cell_type": "code",
   "execution_count": 22,
   "id": "2feedc03",
   "metadata": {},
   "outputs": [
    {
     "data": {
      "text/plain": [
       "33.4"
      ]
     },
     "execution_count": 22,
     "metadata": {},
     "output_type": "execute_result"
    }
   ],
   "source": [
    "1+2*3**4/5\n"
   ]
  },
  {
   "cell_type": "markdown",
   "id": "e77672ee",
   "metadata": {},
   "source": [
    "##### な阪関"
   ]
  },
  {
   "cell_type": "code",
   "execution_count": 28,
   "id": "0229d1f5",
   "metadata": {},
   "outputs": [
    {
     "data": {
      "text/plain": [
       "512"
      ]
     },
     "execution_count": 28,
     "metadata": {},
     "output_type": "execute_result"
    },
    {
     "data": {
      "text/plain": [
       "512.0"
      ]
     },
     "execution_count": 28,
     "metadata": {},
     "output_type": "execute_result"
    },
    {
     "data": {
      "text/plain": [
       "512.0"
      ]
     },
     "execution_count": 28,
     "metadata": {},
     "output_type": "execute_result"
    },
    {
     "data": {
      "text/plain": [
       "512"
      ]
     },
     "execution_count": 28,
     "metadata": {},
     "output_type": "execute_result"
    }
   ],
   "source": [
    "2**10//2\n",
    "2**10//2/1\n",
    "#　/が入れば必ず実数\n",
    "float(2**10//2)\n",
    "int(2**10/2)"
   ]
  },
  {
   "cell_type": "code",
   "execution_count": null,
   "id": "c95694a3",
   "metadata": {},
   "outputs": [],
   "source": []
  }
 ],
 "metadata": {
  "kernelspec": {
   "display_name": "Python 3 (ipykernel)",
   "language": "python",
   "name": "python3"
  },
  "language_info": {
   "codemirror_mode": {
    "name": "ipython",
    "version": 3
   },
   "file_extension": ".py",
   "mimetype": "text/x-python",
   "name": "python",
   "nbconvert_exporter": "python",
   "pygments_lexer": "ipython3",
   "version": "3.9.12"
  }
 },
 "nbformat": 4,
 "nbformat_minor": 5
}
