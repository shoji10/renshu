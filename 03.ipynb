{
 "cells": [
  {
   "cell_type": "markdown",
   "id": "3214c835",
   "metadata": {},
   "source": [
    "## 1-3論理・比較演算と分岐条件の基礎"
   ]
  },
  {
   "cell_type": "markdown",
   "id": "c116d5a8",
   "metadata": {},
   "source": [
    "if分による条件分岐"
   ]
  },
  {
   "cell_type": "code",
   "execution_count": 1,
   "id": "2433e129",
   "metadata": {},
   "outputs": [],
   "source": [
    "from IPython import InteractiveShell\n",
    "InteractiveShell.ast_node_interactivity = \"all\" "
   ]
  },
  {
   "cell_type": "code",
   "execution_count": 5,
   "id": "4250a80f",
   "metadata": {},
   "outputs": [
    {
     "data": {
      "text/plain": [
       "10"
      ]
     },
     "execution_count": 5,
     "metadata": {},
     "output_type": "execute_result"
    },
    {
     "data": {
      "text/plain": [
       "30"
      ]
     },
     "execution_count": 5,
     "metadata": {},
     "output_type": "execute_result"
    }
   ],
   "source": [
    "# bmaxという関数を定義 a,bに数値を入力して大きい数字を返す\n",
    "def bmax(a,b):\n",
    "# if文を用いて条件を分ける\n",
    "    if a > b:\n",
    "# aが大きい場合はaを返す\n",
    "        return a\n",
    "# bが大きい場合(大きい数字がaではない場合)はbを返す\n",
    "    else:\n",
    "# elseの後に:をつけることを忘れないで\n",
    "        return b\n",
    "# 正確には小さくない方を返す\n",
    "\n",
    "\n",
    "bmax(10,5)\n",
    "\n",
    "bmax(2,30)"
   ]
  },
  {
   "cell_type": "code",
   "execution_count": 6,
   "id": "c3702b7e",
   "metadata": {},
   "outputs": [
    {
     "data": {
      "text/plain": [
       "10"
      ]
     },
     "execution_count": 6,
     "metadata": {},
     "output_type": "execute_result"
    },
    {
     "data": {
      "text/plain": [
       "5"
      ]
     },
     "execution_count": 6,
     "metadata": {},
     "output_type": "execute_result"
    }
   ],
   "source": [
    "def cmax(a,b):\n",
    "    if a > b:\n",
    "        return a\n",
    "    return b\n",
    "\n",
    "\n",
    "cmax(10,5)\n",
    "\n",
    "cmax(2,5)"
   ]
  },
  {
   "cell_type": "markdown",
   "id": "9082dd90",
   "metadata": {},
   "source": [
    "else無しでも成り立つ場合がある\n",
    "a > bが成り立っていればreturn aが実行され、return bまで実行されない。\n",
    "       成り立っていなければreturn aは実行されず下のreturn bが実行される。"
   ]
  },
  {
   "cell_type": "code",
   "execution_count": 7,
   "id": "d55c8409",
   "metadata": {},
   "outputs": [
    {
     "data": {
      "text/plain": [
       "10"
      ]
     },
     "execution_count": 7,
     "metadata": {},
     "output_type": "execute_result"
    },
    {
     "data": {
      "text/plain": [
       "5"
      ]
     },
     "execution_count": 7,
     "metadata": {},
     "output_type": "execute_result"
    }
   ],
   "source": [
    "# 上記の入力された数値の大きい方を出力する関数があらかじめ定義されている\n",
    "max(10,5)\n",
    "\n",
    "max(2,5)"
   ]
  },
  {
   "cell_type": "markdown",
   "id": "bf95df44",
   "metadata": {},
   "source": [
    "### 比較演算子一覧\n",
    "x < y         # x は y より小さい\n",
    "\n",
    "x <= y        # x は y 以下\n",
    "\n",
    "x > y         # x は y より大きい\n",
    "\n",
    "x >= y        # x は y 以上\n",
    "\n",
    "x == y        # x と y は等しい\n",
    "\n",
    "x != y        # x と y は等しくない\n",
    "\n",
    "さらに比較演算子はand orで組み合わせて使用できる"
   ]
  },
  {
   "cell_type": "code",
   "execution_count": 8,
   "id": "ffd4f376",
   "metadata": {},
   "outputs": [
    {
     "data": {
      "text/plain": [
       "True"
      ]
     },
     "execution_count": 8,
     "metadata": {},
     "output_type": "execute_result"
    },
    {
     "data": {
      "text/plain": [
       "True"
      ]
     },
     "execution_count": 8,
     "metadata": {},
     "output_type": "execute_result"
    },
    {
     "data": {
      "text/plain": [
       "False"
      ]
     },
     "execution_count": 8,
     "metadata": {},
     "output_type": "execute_result"
    }
   ],
   "source": [
    "1 < 2 < 3\n",
    "\n",
    "3 >= 2 < 5\n",
    "\n",
    "3 < 2 < 5"
   ]
  },
  {
   "cell_type": "code",
   "execution_count": 4,
   "id": "252f0850",
   "metadata": {},
   "outputs": [],
   "source": [
    "# 数値 x の絶対値を求める関数\n",
    "def absolute(x):\n",
    "    if x >= 0:\n",
    "        return x\n",
    "    return x*(-1)\n",
    "\n",
    "    \n",
    "assert absolute(5) == 5\n",
    "assert absolute(-5) == 5\n",
    "assert absolute(0) == 5\n",
    "\n",
    "# 模範解答    \n",
    "#    def absolute(x):\n",
    "#    if x < 0:\n",
    "#        return -x\n",
    "#    else:\n",
    "#        return x"
   ]
  },
  {
   "cell_type": "code",
   "execution_count": 10,
   "id": "770104af",
   "metadata": {},
   "outputs": [],
   "source": [
    "# x が正ならば 1、負ならば -1、ゼロならば 0 を返す関数\n",
    "def sign(x):\n",
    "    if x > 0:\n",
    "        return 1\n",
    "    if x == 0:\n",
    "            return 0\n",
    "    return -1\n",
    "\n",
    "\n",
    "assert sign(5) == 1\n",
    "assert sign(-5) == -1\n",
    "assert sign(0) == 0\n",
    "\n",
    "\n",
    "# 模範解答\n",
    "# def sign(x):\n",
    "#     if x < 0:\n",
    "#         return -1\n",
    "#     if x > 0:\n",
    "#         return 1\n",
    "#     return 0"
   ]
  },
  {
   "cell_type": "code",
   "execution_count": null,
   "id": "f421d84c",
   "metadata": {},
   "outputs": [],
   "source": []
  }
 ],
 "metadata": {
  "kernelspec": {
   "display_name": "Python 3 (ipykernel)",
   "language": "python",
   "name": "python3"
  },
  "language_info": {
   "codemirror_mode": {
    "name": "ipython",
    "version": 3
   },
   "file_extension": ".py",
   "mimetype": "text/x-python",
   "name": "python",
   "nbconvert_exporter": "python",
   "pygments_lexer": "ipython3",
   "version": "3.9.12"
  }
 },
 "nbformat": 4,
 "nbformat_minor": 5
}
