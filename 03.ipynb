{
 "cells": [
  {
   "cell_type": "markdown",
   "id": "3214c835",
   "metadata": {},
   "source": [
    "## 1-3論理・比較演算と分岐条件の基礎"
   ]
  },
  {
   "cell_type": "markdown",
   "id": "c116d5a8",
   "metadata": {},
   "source": [
    "if分による条件分岐"
   ]
  },
  {
   "cell_type": "code",
   "execution_count": 1,
   "id": "2433e129",
   "metadata": {},
   "outputs": [],
   "source": [
    "from IPython import InteractiveShell\n",
    "InteractiveShell.ast_node_interactivity = \"all\" "
   ]
  },
  {
   "cell_type": "code",
   "execution_count": 5,
   "id": "4250a80f",
   "metadata": {},
   "outputs": [
    {
     "data": {
      "text/plain": [
       "10"
      ]
     },
     "execution_count": 5,
     "metadata": {},
     "output_type": "execute_result"
    },
    {
     "data": {
      "text/plain": [
       "30"
      ]
     },
     "execution_count": 5,
     "metadata": {},
     "output_type": "execute_result"
    }
   ],
   "source": [
    "# bmaxという関数を定義 a,bに数値を入力して大きい数字を返す\n",
    "def bmax(a,b):\n",
    "# if文を用いて条件を分ける\n",
    "    if a > b:\n",
    "# aが大きい場合はaを返す\n",
    "        return a\n",
    "# bが大きい場合(大きい数字がaではない場合)はbを返す\n",
    "    else:\n",
    "# elseの後に:をつけることを忘れないで\n",
    "        return b\n",
    "# 正確には小さくない方を返す\n",
    "\n",
    "\n",
    "bmax(10,5)\n",
    "\n",
    "bmax(2,30)"
   ]
  },
  {
   "cell_type": "code",
   "execution_count": 6,
   "id": "c3702b7e",
   "metadata": {},
   "outputs": [
    {
     "data": {
      "text/plain": [
       "10"
      ]
     },
     "execution_count": 6,
     "metadata": {},
     "output_type": "execute_result"
    },
    {
     "data": {
      "text/plain": [
       "5"
      ]
     },
     "execution_count": 6,
     "metadata": {},
     "output_type": "execute_result"
    }
   ],
   "source": [
    "def cmax(a,b):\n",
    "    if a > b:\n",
    "        return a\n",
    "    return b\n",
    "\n",
    "\n",
    "cmax(10,5)\n",
    "\n",
    "cmax(2,5)"
   ]
  },
  {
   "cell_type": "markdown",
   "id": "9082dd90",
   "metadata": {},
   "source": [
    "else無しでも成り立つ場合がある\n",
    "a > bが成り立っていればreturn aが実行され、return bまで実行されない。\n",
    "       成り立っていなければreturn aは実行されず下のreturn bが実行される。"
   ]
  },
  {
   "cell_type": "code",
   "execution_count": 7,
   "id": "d55c8409",
   "metadata": {},
   "outputs": [
    {
     "data": {
      "text/plain": [
       "10"
      ]
     },
     "execution_count": 7,
     "metadata": {},
     "output_type": "execute_result"
    },
    {
     "data": {
      "text/plain": [
       "5"
      ]
     },
     "execution_count": 7,
     "metadata": {},
     "output_type": "execute_result"
    }
   ],
   "source": [
    "# 上記の入力された数値の大きい方を出力する関数があらかじめ定義されている\n",
    "max(10,5)\n",
    "\n",
    "max(2,5)"
   ]
  },
  {
   "cell_type": "markdown",
   "id": "bf95df44",
   "metadata": {},
   "source": [
    "### 比較演算子一覧\n",
    "x < y         # x は y より小さい\n",
    "\n",
    "x <= y        # x は y 以下\n",
    "\n",
    "x > y         # x は y より大きい\n",
    "\n",
    "x >= y        # x は y 以上\n",
    "\n",
    "x == y        # x と y は等しい\n",
    "\n",
    "x != y        # x と y は等しくない\n",
    "\n",
    "さらに比較演算子はand orで組み合わせて使用できる"
   ]
  },
  {
   "cell_type": "code",
   "execution_count": 8,
   "id": "ffd4f376",
   "metadata": {},
   "outputs": [
    {
     "data": {
      "text/plain": [
       "True"
      ]
     },
     "execution_count": 8,
     "metadata": {},
     "output_type": "execute_result"
    },
    {
     "data": {
      "text/plain": [
       "True"
      ]
     },
     "execution_count": 8,
     "metadata": {},
     "output_type": "execute_result"
    },
    {
     "data": {
      "text/plain": [
       "False"
      ]
     },
     "execution_count": 8,
     "metadata": {},
     "output_type": "execute_result"
    }
   ],
   "source": [
    "1 < 2 < 3\n",
    "\n",
    "3 >= 2 < 5\n",
    "\n",
    "3 < 2 < 5"
   ]
  },
  {
   "cell_type": "code",
   "execution_count": 4,
   "id": "252f0850",
   "metadata": {},
   "outputs": [],
   "source": [
    "# 数値 x の絶対値を求める関数\n",
    "def absolute(x):\n",
    "    if x >= 0:\n",
    "        return x\n",
    "    return x*(-1)\n",
    "\n",
    "    \n",
    "assert absolute(5) == 5\n",
    "assert absolute(-5) == 5\n",
    "assert absolute(0) == 5\n",
    "\n",
    "# 模範解答    \n",
    "#    def absolute(x):\n",
    "#    if x < 0:\n",
    "#        return -x\n",
    "#    else:\n",
    "#        return x"
   ]
  },
  {
   "cell_type": "code",
   "execution_count": 10,
   "id": "770104af",
   "metadata": {},
   "outputs": [],
   "source": [
    "# x が正ならば 1、負ならば -1、ゼロならば 0 を返す関数\n",
    "def sign(x):\n",
    "# x>0なら1を返す\n",
    "    if x > 0:\n",
    "        return 1\n",
    "# X=1なら0を返す\n",
    "    if x == 0:\n",
    "            return 0\n",
    "# どちらでもない(x<0)場合は-1\n",
    "        return -1\n",
    "\n",
    "\n",
    "assert sign(5) == 1\n",
    "assert sign(-5) == -1\n",
    "assert sign(0) == 0\n",
    "\n",
    "\n",
    "# 模範解答\n",
    "# def sign(x):\n",
    "#     if x < 0:\n",
    "#         return -1\n",
    "#     if x > 0:\n",
    "#         return 1\n",
    "#     return 0"
   ]
  },
  {
   "cell_type": "markdown",
   "id": "9df0c245",
   "metadata": {},
   "source": [
    "真理値を返す関数"
   ]
  },
  {
   "cell_type": "code",
   "execution_count": 4,
   "id": "5c007a2b",
   "metadata": {},
   "outputs": [
    {
     "data": {
      "text/plain": [
       "True"
      ]
     },
     "execution_count": 4,
     "metadata": {},
     "output_type": "execute_result"
    },
    {
     "data": {
      "text/plain": [
       "False"
      ]
     },
     "execution_count": 4,
     "metadata": {},
     "output_type": "execute_result"
    },
    {
     "data": {
      "text/plain": [
       "False"
      ]
     },
     "execution_count": 4,
     "metadata": {},
     "output_type": "execute_result"
    }
   ],
   "source": [
    "x = 3\n",
    "x > 1\n",
    "x < 2\n",
    "x%2 == 0"
   ]
  },
  {
   "cell_type": "code",
   "execution_count": 13,
   "id": "0d8617f6",
   "metadata": {},
   "outputs": [
    {
     "data": {
      "text/plain": [
       "False"
      ]
     },
     "execution_count": 13,
     "metadata": {},
     "output_type": "execute_result"
    },
    {
     "data": {
      "text/plain": [
       "True"
      ]
     },
     "execution_count": 13,
     "metadata": {},
     "output_type": "execute_result"
    }
   ],
   "source": [
    "# xを2で割った余りが0に等しいかの条件の真理値を返す\n",
    "def is_even(x):\n",
    "# sにxを2で割った余りは0と等しいという式を格納\n",
    "    s = x%2== 0\n",
    "# sの内容を返す\n",
    "    return s\n",
    "\n",
    "\n",
    "is_even(3)\n",
    "is_even(4)"
   ]
  },
  {
   "cell_type": "code",
   "execution_count": 15,
   "id": "20b93fac",
   "metadata": {},
   "outputs": [
    {
     "data": {
      "text/plain": [
       "True"
      ]
     },
     "execution_count": 15,
     "metadata": {},
     "output_type": "execute_result"
    },
    {
     "data": {
      "text/plain": [
       "True"
      ]
     },
     "execution_count": 15,
     "metadata": {},
     "output_type": "execute_result"
    }
   ],
   "source": [
    "# このような関数はifの後に使うことができる\n",
    "# is_evenの真理値を反対で出す関数\n",
    "def is_odd(X):\n",
    "    if is_even(x):\n",
    "# tureの時にfalseを返す\n",
    "        return False\n",
    "# tureでない時(false)にtureを返す\n",
    "    else:\n",
    "        return True\n",
    "    \n",
    "\n",
    "is_odd(2)\n",
    "is_odd(3)"
   ]
  },
  {
   "cell_type": "markdown",
   "id": "e0e760a2",
   "metadata": {},
   "source": [
    "pythonでは値は全てオブジェクトと総称される。\n",
    "オブジェクト＝データという認識でよい\n",
    "正確には式の評価結果や変数の値となるデータがオブジェクト"
   ]
  },
  {
   "cell_type": "code",
   "execution_count": 16,
   "id": "969c185d",
   "metadata": {},
   "outputs": [
    {
     "name": "stdout",
     "output_type": "stream",
     "text": [
      "NG\n"
     ]
    }
   ],
   "source": [
    "if None:\n",
    "    print('OK')\n",
    "else:\n",
    "    print('NG')"
   ]
  },
  {
   "cell_type": "markdown",
   "id": "0d725e2c",
   "metadata": {},
   "source": [
    "数のうち0や0.0は偽、その他は真とみなされる\n",
    "\n",
    "文字列では''のみ偽、その他何か書いてあると真とみなされる"
   ]
  },
  {
   "cell_type": "code",
   "execution_count": 20,
   "id": "ad7ef8d4",
   "metadata": {},
   "outputs": [
    {
     "name": "stdout",
     "output_type": "stream",
     "text": [
      "NG\n",
      "OK\n"
     ]
    }
   ],
   "source": [
    "if 0:\n",
    "    print('OK')\n",
    "else:\n",
    "    print('NG')\n",
    "    \n",
    "    \n",
    "if -1.1:\n",
    "    print('OK')\n",
    "else:\n",
    "    print('NG')"
   ]
  },
  {
   "cell_type": "markdown",
   "id": "aea5690f",
   "metadata": {},
   "source": [
    "#### 再帰\n",
    "定義しようとするもの自身を定義の中で参照すること\n",
    "\n",
    "数列の漸化式がそれに当てはまる。"
   ]
  },
  {
   "cell_type": "markdown",
   "id": "9970bcd5",
   "metadata": {},
   "source": [
    "fib(n) = n  ただし n<2   \n",
    "fib(n) = fib(n-1) + fib(n-2)  ただし n>=2  \n",
    "この漸化式を用いて以下のように実際にフィボナッチ数を計算することができます。  \n",
    "fib(0) = 0  \n",
    "fib(1) = 1  \n",
    "fib(2) = fib(1) + fib(0) = 1 + 0 = 1  \n",
    "fib(3) = fib(2) + fib(1) = 1 + 1 = 2  \n",
    "fib(4) = fib(3) + fib(2) = 2 + 1 = 3  \n",
    "fib(5) = fib(4) + fib(3) = 3 + 2 = 5  "
   ]
  },
  {
   "cell_type": "code",
   "execution_count": 32,
   "id": "da73de92",
   "metadata": {},
   "outputs": [
    {
     "data": {
      "text/plain": [
       "1"
      ]
     },
     "execution_count": 32,
     "metadata": {},
     "output_type": "execute_result"
    },
    {
     "data": {
      "text/plain": [
       "55"
      ]
     },
     "execution_count": 32,
     "metadata": {},
     "output_type": "execute_result"
    }
   ],
   "source": [
    "# 以上の漸化式を関数化\n",
    "def fib(n):\n",
    "# fib(n) = n  ただし n<2 の条件を入れる\n",
    "    if n < 2:\n",
    "        return n\n",
    "# n >= 2 の条件の時(上以外)aの式を計算させ、表示\n",
    "    else:\n",
    "# aに次の条件の式を格納\n",
    "        a = fib(n-1) + fib(n-2)\n",
    "        return a\n",
    "\n",
    "fib(1)\n",
    "fib(10)"
   ]
  },
  {
   "cell_type": "markdown",
   "id": "1fa095ab",
   "metadata": {},
   "source": [
    "### 1-4. テストとデバッグ"
   ]
  },
  {
   "cell_type": "markdown",
   "id": "67e11c2b",
   "metadata": {},
   "source": [
    "assert文　テストとデバッグに有用\n"
   ]
  },
  {
   "cell_type": "code",
   "execution_count": 2,
   "id": "4c863dc1",
   "metadata": {},
   "outputs": [
    {
     "ename": "AssertionError",
     "evalue": "",
     "output_type": "error",
     "traceback": [
      "\u001b[1;31m---------------------------------------------------------------------------\u001b[0m",
      "\u001b[1;31mAssertionError\u001b[0m                            Traceback (most recent call last)",
      "Input \u001b[1;32mIn [2]\u001b[0m, in \u001b[0;36m<cell line: 5>\u001b[1;34m()\u001b[0m\n\u001b[0;32m      2\u001b[0m     \u001b[38;5;28;01mreturn\u001b[39;00m x\u001b[38;5;241m+\u001b[39mx\n\u001b[0;32m      4\u001b[0m x \u001b[38;5;241m=\u001b[39m \u001b[38;5;241m-\u001b[39m\u001b[38;5;241m2\u001b[39m\n\u001b[1;32m----> 5\u001b[0m \u001b[38;5;28;01massert\u001b[39;00m square(x) \u001b[38;5;241m>\u001b[39m\u001b[38;5;241m=\u001b[39m \u001b[38;5;241m0\u001b[39m\n",
      "\u001b[1;31mAssertionError\u001b[0m: "
     ]
    }
   ],
   "source": [
    "def square(x):\n",
    "    return x+x\n",
    "\n",
    "x = -2\n",
    "assert square(x) >= 0"
   ]
  },
  {
   "cell_type": "code",
   "execution_count": null,
   "id": "56c93500",
   "metadata": {},
   "outputs": [],
   "source": []
  }
 ],
 "metadata": {
  "kernelspec": {
   "display_name": "Python 3 (ipykernel)",
   "language": "python",
   "name": "python3"
  },
  "language_info": {
   "codemirror_mode": {
    "name": "ipython",
    "version": 3
   },
   "file_extension": ".py",
   "mimetype": "text/x-python",
   "name": "python",
   "nbconvert_exporter": "python",
   "pygments_lexer": "ipython3",
   "version": "3.9.13"
  }
 },
 "nbformat": 4,
 "nbformat_minor": 5
}
