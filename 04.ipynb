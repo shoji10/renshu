{
 "cells": [
  {
   "cell_type": "markdown",
   "id": "c3a0c85b",
   "metadata": {},
   "source": [
    "## 2-1文字列"
   ]
  },
  {
   "cell_type": "code",
   "execution_count": 14,
   "id": "b96d0f68",
   "metadata": {},
   "outputs": [],
   "source": [
    "from IPython import InteractiveShell\n",
    "InteractiveShell.ast_node_interactivity = \"all\" "
   ]
  },
  {
   "cell_type": "markdown",
   "id": "ed9e997d",
   "metadata": {},
   "source": [
    "文字列は''もしくは\"\"で囲んで記述"
   ]
  },
  {
   "cell_type": "code",
   "execution_count": 5,
   "id": "088f1d4f",
   "metadata": {},
   "outputs": [
    {
     "data": {
      "text/plain": [
       "'one'"
      ]
     },
     "execution_count": 5,
     "metadata": {},
     "output_type": "execute_result"
    },
    {
     "data": {
      "text/plain": [
       "'two'"
      ]
     },
     "execution_count": 5,
     "metadata": {},
     "output_type": "execute_result"
    }
   ],
   "source": [
    "# 文字列をそれぞれ変数に代入\n",
    "word1 = 'one'\n",
    "word1\n",
    "\n",
    "word2 = 'two'\n",
    "word2"
   ]
  },
  {
   "cell_type": "markdown",
   "id": "d1a6324d",
   "metadata": {},
   "source": [
    "組み込み関数 type で文字列であるかを確認できる"
   ]
  },
  {
   "cell_type": "code",
   "execution_count": 6,
   "id": "f3b3eade",
   "metadata": {},
   "outputs": [
    {
     "data": {
      "text/plain": [
       "str"
      ]
     },
     "execution_count": 6,
     "metadata": {},
     "output_type": "execute_result"
    },
    {
     "data": {
      "text/plain": [
       "str"
      ]
     },
     "execution_count": 6,
     "metadata": {},
     "output_type": "execute_result"
    }
   ],
   "source": [
    "type(word1)\n",
    "type(word2)"
   ]
  },
  {
   "cell_type": "markdown",
   "id": "8af5e009",
   "metadata": {},
   "source": [
    "strは文字列  \n",
    "intは整数  \n",
    "floatは実数  \n",
    "以下の式でそれぞれを任意のものに変換できる"
   ]
  },
  {
   "cell_type": "code",
   "execution_count": 13,
   "id": "20ea532b",
   "metadata": {},
   "outputs": [
    {
     "data": {
      "text/plain": [
       "'1234'"
      ]
     },
     "execution_count": 13,
     "metadata": {},
     "output_type": "execute_result"
    },
    {
     "data": {
      "text/plain": [
       "str"
      ]
     },
     "execution_count": 13,
     "metadata": {},
     "output_type": "execute_result"
    }
   ],
   "source": [
    "# 変数に整数を入力、文字列に変更\n",
    "word3 = str(1234)\n",
    "# 見かけは整数に見える\n",
    "word3\n",
    "# 確認すると文字列になっている\n",
    "type(word3)"
   ]
  },
  {
   "cell_type": "code",
   "execution_count": 14,
   "id": "f27730df",
   "metadata": {},
   "outputs": [
    {
     "data": {
      "text/plain": [
       "int"
      ]
     },
     "execution_count": 14,
     "metadata": {},
     "output_type": "execute_result"
    },
    {
     "data": {
      "text/plain": [
       "str"
      ]
     },
     "execution_count": 14,
     "metadata": {},
     "output_type": "execute_result"
    }
   ],
   "source": [
    "# 整数を代入すれば整数\n",
    "i = 123\n",
    "type(i)\n",
    "\n",
    "# 文字列に変更\n",
    "i = str(i)\n",
    "type(i)"
   ]
  },
  {
   "cell_type": "markdown",
   "id": "3e3b34c4",
   "metadata": {},
   "source": [
    "文字列の長さは len を用いて求める"
   ]
  },
  {
   "cell_type": "code",
   "execution_count": 15,
   "id": "3aa58f65",
   "metadata": {},
   "outputs": [
    {
     "data": {
      "text/plain": [
       "3"
      ]
     },
     "execution_count": 15,
     "metadata": {},
     "output_type": "execute_result"
    },
    {
     "data": {
      "text/plain": [
       "4"
      ]
     },
     "execution_count": 15,
     "metadata": {},
     "output_type": "execute_result"
    }
   ],
   "source": [
    "len(word2)\n",
    "len(word3)"
   ]
  },
  {
   "cell_type": "markdown",
   "id": "27e63780",
   "metadata": {},
   "source": [
    "文字列の中から文字を得たい場合"
   ]
  },
  {
   "cell_type": "code",
   "execution_count": 16,
   "id": "b3e3603a",
   "metadata": {},
   "outputs": [
    {
     "data": {
      "text/plain": [
       "'l'"
      ]
     },
     "execution_count": 16,
     "metadata": {},
     "output_type": "execute_result"
    },
    {
     "data": {
      "text/plain": [
       "'l'"
      ]
     },
     "execution_count": 16,
     "metadata": {},
     "output_type": "execute_result"
    }
   ],
   "source": [
    "'hello'[2]\n",
    "\n",
    "word1 = 'hello'\n",
    "word1[2]"
   ]
  },
  {
   "cell_type": "markdown",
   "id": "928773ab",
   "metadata": {},
   "source": [
    "[]内の数値をインデックスと呼ぶ  \n",
    "インデックスは0から始まるのでx番目の要素を得るにはx-1を指定する  \n",
    "(逆にxを指定したらｘ+1番目の要素が返ってくる)  \n",
    "  \n",
    "文字列に対してインデックスを指定してその要素を変更することはできない。  \n",
    "文字列の長さ以上のインデックスは指定できない。"
   ]
  },
  {
   "cell_type": "code",
   "execution_count": 17,
   "id": "bf2d3fec",
   "metadata": {},
   "outputs": [
    {
     "ename": "TypeError",
     "evalue": "'str' object does not support item assignment",
     "output_type": "error",
     "traceback": [
      "\u001b[1;31m---------------------------------------------------------------------------\u001b[0m",
      "\u001b[1;31mTypeError\u001b[0m                                 Traceback (most recent call last)",
      "Input \u001b[1;32mIn [17]\u001b[0m, in \u001b[0;36m<cell line: 2>\u001b[1;34m()\u001b[0m\n\u001b[0;32m      1\u001b[0m word1 \u001b[38;5;241m=\u001b[39m \u001b[38;5;124m'\u001b[39m\u001b[38;5;124mhello\u001b[39m\u001b[38;5;124m'\u001b[39m\n\u001b[1;32m----> 2\u001b[0m word1[\u001b[38;5;241m0\u001b[39m] \u001b[38;5;241m=\u001b[39m \u001b[38;5;124m'\u001b[39m\u001b[38;5;124mH\u001b[39m\u001b[38;5;124m'\u001b[39m\n",
      "\u001b[1;31mTypeError\u001b[0m: 'str' object does not support item assignment"
     ]
    }
   ],
   "source": [
    "word1 = 'hello'\n",
    "word1[0] = 'H'"
   ]
  },
  {
   "cell_type": "code",
   "execution_count": 18,
   "id": "a4af780a",
   "metadata": {},
   "outputs": [
    {
     "ename": "IndexError",
     "evalue": "string index out of range",
     "output_type": "error",
     "traceback": [
      "\u001b[1;31m---------------------------------------------------------------------------\u001b[0m",
      "\u001b[1;31mIndexError\u001b[0m                                Traceback (most recent call last)",
      "Input \u001b[1;32mIn [18]\u001b[0m, in \u001b[0;36m<cell line: 1>\u001b[1;34m()\u001b[0m\n\u001b[1;32m----> 1\u001b[0m \u001b[43mword1\u001b[49m\u001b[43m[\u001b[49m\u001b[38;5;241;43m100\u001b[39;49m\u001b[43m]\u001b[49m\n",
      "\u001b[1;31mIndexError\u001b[0m: string index out of range"
     ]
    }
   ],
   "source": [
    "word1[100]"
   ]
  },
  {
   "cell_type": "markdown",
   "id": "c83c4c3a",
   "metadata": {},
   "source": [
    "インデックスに負数を指定すると文字列を後ろから数えて文字を取得する"
   ]
  },
  {
   "cell_type": "code",
   "execution_count": 19,
   "id": "f909287e",
   "metadata": {},
   "outputs": [
    {
     "data": {
      "text/plain": [
       "'o'"
      ]
     },
     "execution_count": 19,
     "metadata": {},
     "output_type": "execute_result"
    }
   ],
   "source": [
    "# word1'hello'の一番最後の文字を取得する\n",
    "# そのためにインデックスで-1を指定する\n",
    "word1[-1]"
   ]
  },
  {
   "cell_type": "markdown",
   "id": "d37accfb",
   "metadata": {},
   "source": [
    "文字列とスライス\n",
    "スライスという機能で文字列の一部を取得する"
   ]
  },
  {
   "cell_type": "code",
   "execution_count": 1,
   "id": "a006a974",
   "metadata": {},
   "outputs": [
    {
     "data": {
      "text/plain": [
       "'234'"
      ]
     },
     "execution_count": 1,
     "metadata": {},
     "output_type": "execute_result"
    }
   ],
   "source": [
    "# 文字列の2番目から4番目までの文字の文字列を取得する\n",
    "digits1 = '123456789'\n",
    "digits1[1:4]"
   ]
  },
  {
   "cell_type": "markdown",
   "id": "149ca5bb",
   "metadata": {},
   "source": [
    "インデックスは0から始まる  \n",
    "何番目の文字を切るかで覚える(4番目を指定したら5番目から除外)"
   ]
  },
  {
   "cell_type": "code",
   "execution_count": 6,
   "id": "a63c2828",
   "metadata": {},
   "outputs": [
    {
     "data": {
      "text/plain": [
       "'1234'"
      ]
     },
     "execution_count": 6,
     "metadata": {},
     "output_type": "execute_result"
    },
    {
     "data": {
      "text/plain": [
       "'1234'"
      ]
     },
     "execution_count": 6,
     "metadata": {},
     "output_type": "execute_result"
    },
    {
     "data": {
      "text/plain": [
       "'56789'"
      ]
     },
     "execution_count": 6,
     "metadata": {},
     "output_type": "execute_result"
    }
   ],
   "source": [
    "digits1[0:4]\n",
    "digits1[:4]\n",
    "digits1[4:]\n",
    "\n",
    "# 0を省略しても大丈夫"
   ]
  },
  {
   "cell_type": "code",
   "execution_count": 9,
   "id": "edbd3350",
   "metadata": {},
   "outputs": [
    {
     "data": {
      "text/plain": [
       "'678'"
      ]
     },
     "execution_count": 9,
     "metadata": {},
     "output_type": "execute_result"
    }
   ],
   "source": [
    "digits1[-4:-1]\n",
    "# ーで指定もできる"
   ]
  },
  {
   "cell_type": "code",
   "execution_count": 13,
   "id": "dfac582a",
   "metadata": {},
   "outputs": [
    {
     "data": {
      "text/plain": [
       "'2468'"
      ]
     },
     "execution_count": 13,
     "metadata": {},
     "output_type": "execute_result"
    },
    {
     "data": {
      "text/plain": [
       "'987654'"
      ]
     },
     "execution_count": 13,
     "metadata": {},
     "output_type": "execute_result"
    }
   ],
   "source": [
    "# ほかにもこんなことができる\n",
    "\n",
    "# 3番目の値を指定することでとびとびの文字を指定できる。\n",
    "# 2～9までの範囲で2文字おきに並べる\n",
    "digits1[1:9:2]\n",
    "\n",
    "# 指定した範囲で元の文字列の逆向きの文字列を得る\n",
    "# 指定範囲も逆にする\n",
    "digits1[9:2:-1]"
   ]
  },
  {
   "cell_type": "markdown",
   "id": "9ce6a761",
   "metadata": {},
   "source": [
    "空文字列\n",
    "''で囲んだ中に何も入れていない文字列は空文字列となる"
   ]
  },
  {
   "cell_type": "markdown",
   "id": "711ba909",
   "metadata": {},
   "source": [
    "文字列の検索"
   ]
  },
  {
   "cell_type": "code",
   "execution_count": 4,
   "id": "7cf54564",
   "metadata": {},
   "outputs": [
    {
     "data": {
      "text/plain": [
       "True"
      ]
     },
     "execution_count": 4,
     "metadata": {},
     "output_type": "execute_result"
    },
    {
     "data": {
      "text/plain": [
       "False"
      ]
     },
     "execution_count": 4,
     "metadata": {},
     "output_type": "execute_result"
    }
   ],
   "source": [
    "'lo' in 'hello'\n",
    "'z' in 'hello'"
   ]
  },
  {
   "cell_type": "code",
   "execution_count": 10,
   "id": "6052bca4",
   "metadata": {},
   "outputs": [
    {
     "data": {
      "text/plain": [
       "True"
      ]
     },
     "execution_count": 10,
     "metadata": {},
     "output_type": "execute_result"
    },
    {
     "data": {
      "text/plain": [
       "False"
      ]
     },
     "execution_count": 10,
     "metadata": {},
     "output_type": "execute_result"
    },
    {
     "data": {
      "text/plain": [
       "True"
      ]
     },
     "execution_count": 10,
     "metadata": {},
     "output_type": "execute_result"
    }
   ],
   "source": [
    "# 文字列と検索したい文字列を変数に格納\n",
    "文字列 = 'hello'\n",
    "検索 = 'a'\n",
    "\n",
    "'he' in 文字列\n",
    "検索 in 文字列\n",
    "# not in 演算子で in の逆を検索できる\n",
    "検索 not in 文字列"
   ]
  },
  {
   "cell_type": "markdown",
   "id": "5e489d53",
   "metadata": {},
   "source": [
    "エスケープシーケンス\n",
    "''もしくは\"\"で文字列を囲むわけだが文字列に \"私\"が来た のように同じ\"や'があると  \n",
    "エラーが起きる。<br>文字列の範囲がズレるため。"
   ]
  },
  {
   "cell_type": "code",
   "execution_count": 15,
   "id": "10d8e1da",
   "metadata": {},
   "outputs": [
    {
     "ename": "SyntaxError",
     "evalue": "invalid syntax (3300054379.py, line 1)",
     "output_type": "error",
     "traceback": [
      "\u001b[0;36m  File \u001b[0;32m\"/var/folders/mk/4s4nx9q55gs1489rd21kxx2m0000gn/T/ipykernel_6416/3300054379.py\"\u001b[0;36m, line \u001b[0;32m1\u001b[0m\n\u001b[0;31m    notescape = ''私'が来た'\u001b[0m\n\u001b[0m                  ^\u001b[0m\n\u001b[0;31mSyntaxError\u001b[0m\u001b[0;31m:\u001b[0m invalid syntax\n"
     ]
    }
   ],
   "source": [
    "notescape = ''私'が来た'\n",
    "notescape"
   ]
  },
  {
   "cell_type": "code",
   "execution_count": 20,
   "id": "233a3c51",
   "metadata": {},
   "outputs": [
    {
     "data": {
      "text/plain": [
       "\"'私'が来た\""
      ]
     },
     "execution_count": 20,
     "metadata": {},
     "output_type": "execute_result"
    }
   ],
   "source": [
    "escaped1 = \"'私'が来た\"\n",
    "escaped1"
   ]
  },
  {
   "cell_type": "markdown",
   "id": "0b850fb8",
   "metadata": {},
   "source": [
    "\\を'の前に置くか、'、\"を分けると避けることができる<br>\n",
    "ダブルクォートを表す \\\"、\\ を表す \\\\ 、改行を表す \\n など色々ある。"
   ]
  },
  {
   "cell_type": "code",
   "execution_count": 21,
   "id": "52f31a16",
   "metadata": {
    "scrolled": true
   },
   "outputs": [
    {
     "name": "stdout",
     "output_type": "stream",
     "text": [
      "\n",
      "\n",
      "¥n\n",
      "⧵n\n"
     ]
    }
   ],
   "source": [
    "print('\\n') # 改行文字（バックスラッシュ + n）\n",
    "print('¥n') # 改行文字でない（円記号 + n）\n",
    "print('⧵n') # 改行文字でない（Unicode U+29F5 のバックスラッシュ演算子 + n）"
   ]
  },
  {
   "cell_type": "markdown",
   "id": "8eec2fae",
   "metadata": {},
   "source": [
    "文字列の連結\n",
    "+演算子で文字同士を連結できる\n",
    "*演算子では繰り返し回数を指定できる"
   ]
  },
  {
   "cell_type": "code",
   "execution_count": 25,
   "id": "19ad07ea",
   "metadata": {},
   "outputs": [
    {
     "data": {
      "text/plain": [
       "'HiGeoge'"
      ]
     },
     "execution_count": 25,
     "metadata": {},
     "output_type": "execute_result"
    },
    {
     "data": {
      "text/plain": [
       "'HiHiHi'"
      ]
     },
     "execution_count": 25,
     "metadata": {},
     "output_type": "execute_result"
    }
   ],
   "source": [
    "word1 = 'Hi'\n",
    "word2 = 'Geoge'\n",
    "text1 = word1 + word2\n",
    "text1\n",
    "\n",
    "word1* 3"
   ]
  },
  {
   "cell_type": "markdown",
   "id": "6999b756",
   "metadata": {},
   "source": [
    "置換<br>\n",
    "replaseで指定した文字列の一部を文字列Bに置き換えた文字列を作成する<br>\n",
    "元の文字列は変化しない。"
   ]
  },
  {
   "cell_type": "code",
   "execution_count": 27,
   "id": "1c739e3f",
   "metadata": {},
   "outputs": [
    {
     "data": {
      "text/plain": [
       "'he300300o'"
      ]
     },
     "execution_count": 27,
     "metadata": {},
     "output_type": "execute_result"
    },
    {
     "data": {
      "text/plain": [
       "'hello'"
      ]
     },
     "execution_count": 27,
     "metadata": {},
     "output_type": "execute_result"
    }
   ],
   "source": [
    "word1 = 'hello'\n",
    "word1.replace('l','300')\n",
    "\n",
    "word1"
   ]
  },
  {
   "cell_type": "code",
   "execution_count": 36,
   "id": "8f84aed0",
   "metadata": {},
   "outputs": [
    {
     "name": "stdout",
     "output_type": "stream",
     "text": [
      "True\n"
     ]
    }
   ],
   "source": [
    "def remove_punctuations(str_engsentences):\n",
    "    str1 = str_engsentences.replace('.','')\n",
    "    str1 = str1.replace(',','')\n",
    "    str1 = str1.replace(':','')\n",
    "    str1 = str1.replace(';','')\n",
    "    str1 = str1.replace('!','')\n",
    "    str1 = str1.replace('?','')\n",
    "    return str1\n",
    "\n",
    "print(remove_punctuations('Quiet, uh, donations, you want me to make a donation to the coast guard youth auxiliary?') == 'Quiet uh donations you want me to make a donation to the coast guard youth auxiliary')"
   ]
  },
  {
   "cell_type": "code",
   "execution_count": 46,
   "id": "c2294ebd",
   "metadata": {},
   "outputs": [
    {
     "name": "stdout",
     "output_type": "stream",
     "text": [
      "True\n"
     ]
    }
   ],
   "source": [
    "def atgc_bppair(str_atgc):\n",
    "    str2 = str_atgc.replace('A','t')\n",
    "    str2 = str2.replace('T','a')\n",
    "    str2 = str2.replace('G','c')\n",
    "    str2 = str2.replace('C','g')\n",
    "    str2 = str2.upper()\n",
    "    return str2\n",
    "    \n",
    "\n",
    "print(atgc_bppair('AAGCCCCATGGTAA') == 'TTCGGGGTACCATT')"
   ]
  },
  {
   "cell_type": "markdown",
   "id": "24e61d73",
   "metadata": {},
   "source": [
    "検索\n",
    "index　指定した部分文字列Bが文字列Aのどこに存在するかを調べる\n",
    "文字列A.index('部分文字列')"
   ]
  },
  {
   "cell_type": "code",
   "execution_count": 4,
   "id": "1b56f602",
   "metadata": {},
   "outputs": [
    {
     "data": {
      "text/plain": [
       "7"
      ]
     },
     "execution_count": 4,
     "metadata": {},
     "output_type": "execute_result"
    }
   ],
   "source": [
    "word1 = 'I am a human'\n",
    "word1.index('human')\n",
    "\n",
    "# 文字列にない文字を指定したらエラーが出る"
   ]
  },
  {
   "cell_type": "markdown",
   "id": "02f43c45",
   "metadata": {},
   "source": [
    "findもindexと同様に部分文字列を検索し最初に出現するインデックスを返す\n",
    "findは部分文字列が含まれない場合はエラーではなく-1が返される"
   ]
  },
  {
   "cell_type": "code",
   "execution_count": 12,
   "id": "1742880b",
   "metadata": {},
   "outputs": [
    {
     "name": "stdout",
     "output_type": "stream",
     "text": [
      "True\n"
     ]
    }
   ],
   "source": [
    "def swap_coron(str1):\n",
    "    coron_finder = str1.finder(':')\n",
    "    str2 = str1[:coron_finder]\n",
    "    str3 = str1[coron_finder+1:]\n",
    "    str4 = str3+':'+str2\n",
    "    return str4\n",
    "\n",
    "print(swap_colon('hello:world') == 'world:hello')"
   ]
  },
  {
   "cell_type": "markdown",
   "id": "eb38fcfe",
   "metadata": {},
   "source": [
    "lower,capitalize,uooerを用いると文字列の中の<br>\n",
    "英文字を小文字に,uooerを用いると文字列の中の英文字を小文字にしたり大文字にしたりできる<br>\n",
    "元の文字列は変化しない"
   ]
  },
  {
   "cell_type": "code",
   "execution_count": 15,
   "id": "585074a5",
   "metadata": {},
   "outputs": [
    {
     "data": {
      "text/plain": [
       "'dna'"
      ]
     },
     "execution_count": 15,
     "metadata": {},
     "output_type": "execute_result"
    },
    {
     "data": {
      "text/plain": [
       "'DNA'"
      ]
     },
     "execution_count": 15,
     "metadata": {},
     "output_type": "execute_result"
    }
   ],
   "source": [
    "str1 = 'DNA'\n",
    "str1.lower()\n",
    "str1"
   ]
  },
  {
   "cell_type": "code",
   "execution_count": 18,
   "id": "8be80cf7",
   "metadata": {},
   "outputs": [
    {
     "data": {
      "text/plain": [
       "'Hello!'"
      ]
     },
     "execution_count": 18,
     "metadata": {},
     "output_type": "execute_result"
    }
   ],
   "source": [
    "str2 = 'hello!'\n",
    "str2.capitalize()"
   ]
  },
  {
   "cell_type": "markdown",
   "id": "9334d90c",
   "metadata": {},
   "source": [
    "文字列の空白の削除<br>\n",
    "空白文字（半角スペース ' '・改行文字 '\\n'・タブ文字 '\\t'・全角スペース '　' など<br>\n",
    "を"
   ]
  }
 ],
 "metadata": {
  "kernelspec": {
   "display_name": "Python 3 (ipykernel)",
   "language": "python",
   "name": "python3"
  },
  "language_info": {
   "codemirror_mode": {
    "name": "ipython",
    "version": 3
   },
   "file_extension": ".py",
   "mimetype": "text/x-python",
   "name": "python",
   "nbconvert_exporter": "python",
   "pygments_lexer": "ipython3",
   "version": "3.9.13"
  }
 },
 "nbformat": 4,
 "nbformat_minor": 5
}
