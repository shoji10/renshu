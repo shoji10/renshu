{
 "cells": [
  {
   "cell_type": "markdown",
   "id": "f5546b6e",
   "metadata": {},
   "source": [
    "## 2-2"
   ]
  },
  {
   "cell_type": "code",
   "execution_count": 1,
   "id": "724d2fd7",
   "metadata": {},
   "outputs": [],
   "source": [
    "from IPython import InteractiveShell\n",
    "InteractiveShell.ast_node_interactivity = \"all\" "
   ]
  },
  {
   "cell_type": "markdown",
   "id": "1a622a9b",
   "metadata": {},
   "source": [
    "リストとインデックス」<br>\n",
    "リストでは構成する要素としてあらゆる型のデータを指定可能。<br>\n",
    "<br>\n",
    "リストを作成するには構成する要素をコンマで区切り全体を[]で囲む<br>"
   ]
  },
  {
   "cell_type": "code",
   "execution_count": 4,
   "id": "1bf4ee24",
   "metadata": {},
   "outputs": [
    {
     "data": {
      "text/plain": [
       "[0, 10, 20, 30, 40, 50]"
      ]
     },
     "execution_count": 4,
     "metadata": {},
     "output_type": "execute_result"
    },
    {
     "data": {
      "text/plain": [
       "list"
      ]
     },
     "execution_count": 4,
     "metadata": {},
     "output_type": "execute_result"
    }
   ],
   "source": [
    "# 数値を要素とするリストを作成して、変数に代入\n",
    "\n",
    "numbers = [0, 10, 20, 30, 40, 50]\n",
    "numbers\n",
    "\n",
    "# 文字列と同様に組み込み関数typeを用いて変数の値がリストであることを確認している\n",
    "type(numbers)\n",
    "# 文字列のデータ型はlist"
   ]
  },
  {
   "cell_type": "code",
   "execution_count": 6,
   "id": "f3b8daec",
   "metadata": {},
   "outputs": [
    {
     "data": {
      "text/plain": [
       "['apple', 'banana', 'chelly']"
      ]
     },
     "execution_count": 6,
     "metadata": {},
     "output_type": "execute_result"
    }
   ],
   "source": [
    "# 文字列を構成要素とするリストを作成してみる\n",
    "fruits = ['apple', 'banana', 'chelly']\n",
    "fruits"
   ]
  },
  {
   "cell_type": "code",
   "execution_count": 9,
   "id": "e254f57b",
   "metadata": {},
   "outputs": [
    {
     "data": {
      "text/plain": [
       "[10, 'apple', 20, 'banana', 30]"
      ]
     },
     "execution_count": 9,
     "metadata": {},
     "output_type": "execute_result"
    }
   ],
   "source": [
    "# 数値と文字列混在していてもOK\n",
    "number_fruits = [10, 'apple', 20, 'banana', 30]\n",
    "number_fruits"
   ]
  },
  {
   "cell_type": "code",
   "execution_count": 10,
   "id": "7e5619af",
   "metadata": {},
   "outputs": [
    {
     "data": {
      "text/plain": [
       "[]"
      ]
     },
     "execution_count": 10,
     "metadata": {},
     "output_type": "execute_result"
    }
   ],
   "source": [
    "# 何も格納していない(空リスト)を作成できる\n",
    "# 空リストはプログラム実行の途中結果を記録する場合などによく使われいる\n",
    "empty = []\n",
    "empty"
   ]
  },
  {
   "cell_type": "markdown",
   "id": "f74e2768",
   "metadata": {},
   "source": [
    "リストとインデックス <br>\n",
    "文字列の場合と同様にインデックスを指定してリストの要素を取り出すことができる<br>\n",
    "リストX番目要素を取り出すには、<br>\n",
    "リスト[x-1]\n",
    "インデックスは0から始まることを忘れずに。"
   ]
  },
  {
   "cell_type": "code",
   "execution_count": 11,
   "id": "31cb295a",
   "metadata": {},
   "outputs": [
    {
     "data": {
      "text/plain": [
       "'a'"
      ]
     },
     "execution_count": 11,
     "metadata": {},
     "output_type": "execute_result"
    }
   ],
   "source": [
    "abcd = ['a', 'b', 'c', 'd']\n",
    "abcd[0]"
   ]
  },
  {
   "cell_type": "code",
   "execution_count": 13,
   "id": "bbf940f0",
   "metadata": {},
   "outputs": [
    {
     "data": {
      "text/plain": [
       "['a', 'b', 'c', 'dekiruotoko']"
      ]
     },
     "execution_count": 13,
     "metadata": {},
     "output_type": "execute_result"
    }
   ],
   "source": [
    "# リストは変更可能なデータ、代入してみよう\n",
    "abcd[3] = 'dekiruotoko'\n",
    "abcd"
   ]
  },
  {
   "cell_type": "code",
   "execution_count": 14,
   "id": "4f99a410",
   "metadata": {},
   "outputs": [
    {
     "data": {
      "text/plain": [
       "['b', 'c']"
      ]
     },
     "execution_count": 14,
     "metadata": {},
     "output_type": "execute_result"
    },
    {
     "data": {
      "text/plain": [
       "['a', 'c']"
      ]
     },
     "execution_count": 14,
     "metadata": {},
     "output_type": "execute_result"
    }
   ],
   "source": [
    "# スライスもできる\n",
    "abcd[1:3]\n",
    "abcd[0:5:2]"
   ]
  },
  {
   "cell_type": "code",
   "execution_count": 1,
   "id": "16a50f15",
   "metadata": {},
   "outputs": [
    {
     "data": {
      "text/plain": [
       "['a', 'X', 'Y', 'Z', 'd']"
      ]
     },
     "execution_count": 1,
     "metadata": {},
     "output_type": "execute_result"
    }
   ],
   "source": [
    "# 合わせ技でスライスに代入\n",
    "abcd = ['a', 'b', 'c', 'd']\n",
    "abcd[1:3] = ['X', 'Y', 'Z']\n",
    "abcd"
   ]
  },
  {
   "cell_type": "code",
   "execution_count": 1,
   "id": "10a7d978",
   "metadata": {},
   "outputs": [
    {
     "name": "stdout",
     "output_type": "stream",
     "text": [
      "True\n",
      "True\n"
     ]
    }
   ],
   "source": [
    "def remove_evenindex(ln):\n",
    "    ln2 = ln[1::2]\n",
    "    return ln2\n",
    "\n",
    "print(remove_evenindex(['a', 'b', 'c', 'd', 'e', 'f', 'g']) == ['b', 'd', 'f'] )\n",
    "print(remove_evenindex([1, 2, 3, 4, 5]) == [2, 4])"
   ]
  },
  {
   "cell_type": "markdown",
   "id": "94baebe2",
   "metadata": {},
   "source": [
    "## 多重リスト"
   ]
  },
  {
   "cell_type": "code",
   "execution_count": 3,
   "id": "9a2ff4c1",
   "metadata": {},
   "outputs": [
    {
     "data": {
      "text/plain": [
       "10"
      ]
     },
     "execution_count": 3,
     "metadata": {},
     "output_type": "execute_result"
    },
    {
     "data": {
      "text/plain": [
       "['a', 'b', 'c']"
      ]
     },
     "execution_count": 3,
     "metadata": {},
     "output_type": "execute_result"
    }
   ],
   "source": [
    "# []で中に格納するとリストになるが、[]に[]を格納すると多重リストにできる\n",
    "lns = [[1, 2, 3], [10, 20, 30], ['a', 'b', 'c']]\n",
    "\n",
    "# 一つ目の[]でどのセットを見るか\n",
    "# 二つ目の[]でその中のどこを見るか\n",
    "lns[1][0]\n",
    "\n",
    "# (大きい方のリストを見るには)[]一つだけで良い\n",
    "lns[2]"
   ]
  },
  {
   "cell_type": "code",
   "execution_count": 4,
   "id": "9701e625",
   "metadata": {},
   "outputs": [
    {
     "data": {
      "text/plain": [
       "[[[1, 2, 3], [10, 20, 30], ['a', 'b', 'c']],\n",
       " ['x', 1, [11, 12, 13]],\n",
       " ['y', [100, 140]]]"
      ]
     },
     "execution_count": 4,
     "metadata": {},
     "output_type": "execute_result"
    }
   ],
   "source": [
    "# リストを値とする変数を指定することもできる\n",
    "lns2 = [lns, ['x', 1, [11, 12, 13]], ['y', [100, 140]] ]\n",
    "lns2"
   ]
  },
  {
   "cell_type": "code",
   "execution_count": 5,
   "id": "a4320ecb",
   "metadata": {},
   "outputs": [
    {
     "data": {
      "text/plain": [
       "[[1, 2, 3], [10, 20, 30], ['a', 'b', 'c']]"
      ]
     },
     "execution_count": 5,
     "metadata": {},
     "output_type": "execute_result"
    }
   ],
   "source": [
    "lns2[0]"
   ]
  },
  {
   "cell_type": "markdown",
   "id": "15237d93",
   "metadata": {},
   "source": [
    "lenでリストの長さ、要素数を返す\n",
    "max/min ->文字列のリストにも対応(辞書順になる)\n",
    "sumは数のリストが与えられるとその総和を返す"
   ]
  },
  {
   "cell_type": "code",
   "execution_count": 5,
   "id": "45974faf",
   "metadata": {},
   "outputs": [
    {
     "data": {
      "text/plain": [
       "6"
      ]
     },
     "execution_count": 5,
     "metadata": {},
     "output_type": "execute_result"
    },
    {
     "data": {
      "text/plain": [
       "50"
      ]
     },
     "execution_count": 5,
     "metadata": {},
     "output_type": "execute_result"
    },
    {
     "data": {
      "text/plain": [
       "0"
      ]
     },
     "execution_count": 5,
     "metadata": {},
     "output_type": "execute_result"
    },
    {
     "data": {
      "text/plain": [
       "'a'"
      ]
     },
     "execution_count": 5,
     "metadata": {},
     "output_type": "execute_result"
    },
    {
     "data": {
      "text/plain": [
       "150"
      ]
     },
     "execution_count": 5,
     "metadata": {},
     "output_type": "execute_result"
    }
   ],
   "source": [
    "numbers = [0, 10, 20, 30, 40, 50]\n",
    "len(numbers)\n",
    "max(numbers)\n",
    "min(numbers)\n",
    "\n",
    "characters = ['e', 'd', 'a', 'c', 'f', 'b']\n",
    "min(characters)\n",
    "\n",
    "sum(numbers)"
   ]
  },
  {
   "cell_type": "markdown",
   "id": "d9c5358f",
   "metadata": {},
   "source": [
    "演算子＋でリストの連結、＊によって連結の繰り返し回数を指定できる。"
   ]
  },
  {
   "cell_type": "code",
   "execution_count": 10,
   "id": "e841005d",
   "metadata": {},
   "outputs": [
    {
     "data": {
      "text/plain": [
       "[0, 10, 20, 30, 40, 50]"
      ]
     },
     "execution_count": 10,
     "metadata": {},
     "output_type": "execute_result"
    },
    {
     "data": {
      "text/plain": [
       "[0, 10, 20, 30, 40, 50, 'a', 'b', 'c']"
      ]
     },
     "execution_count": 10,
     "metadata": {},
     "output_type": "execute_result"
    },
    {
     "data": {
      "text/plain": [
       "[0, 10, 20, 30, 40, 50, 0, 10, 20, 30, 40, 50, 0, 10, 20, 30, 40, 50]"
      ]
     },
     "execution_count": 10,
     "metadata": {},
     "output_type": "execute_result"
    }
   ],
   "source": [
    "numbers\n",
    "numbers + ['a', 'b', 'c']\n",
    "numbers*3"
   ]
  },
  {
   "cell_type": "markdown",
   "id": "7655de2f",
   "metadata": {},
   "source": [
    "要素が全て同じ値（たとえば、0 ）のリストを作る最も簡単な方法は<br>\n",
    "この * 演算子を使うこと"
   ]
  },
  {
   "cell_type": "code",
   "execution_count": 11,
   "id": "18e96653",
   "metadata": {},
   "outputs": [
    {
     "data": {
      "text/plain": [
       "[0, 0, 0, 0, 0, 0, 0, 0, 0, 0]"
      ]
     },
     "execution_count": 11,
     "metadata": {},
     "output_type": "execute_result"
    }
   ],
   "source": [
    "zero10 = [0] * 10\n",
    "zero10"
   ]
  },
  {
   "cell_type": "markdown",
   "id": "40d4352e",
   "metadata": {},
   "source": [
    "＊は＋を繰り返し行うのと同じ結果を返す。<br>\n",
    "x*3はx+x+xと同じ<br>\n",
    "多重リストの時はリストが繰り返される"
   ]
  },
  {
   "cell_type": "code",
   "execution_count": 13,
   "id": "081ff5d7",
   "metadata": {},
   "outputs": [
    {
     "data": {
      "text/plain": [
       "[[0, 1], [2, 3], [0, 1], [2, 3], [0, 1], [2, 3]]"
      ]
     },
     "execution_count": 13,
     "metadata": {},
     "output_type": "execute_result"
    }
   ],
   "source": [
    "x = [[0,1], [2, 3]]\n",
    "y = x*3\n",
    "y"
   ]
  },
  {
   "cell_type": "code",
   "execution_count": 14,
   "id": "a8f7b870",
   "metadata": {},
   "outputs": [
    {
     "data": {
      "text/plain": [
       "[[999, 1], [2, 3], [999, 1], [2, 3], [999, 1], [2, 3]]"
      ]
     },
     "execution_count": 14,
     "metadata": {},
     "output_type": "execute_result"
    }
   ],
   "source": [
    "# xの要素が変更されるとyのなかで複数箇所で変化する。\n",
    "x[0][0] = 999\n",
    "y"
   ]
  },
  {
   "cell_type": "markdown",
   "id": "daca7b87",
   "metadata": {},
   "source": [
    "in 演算子は左の要素がリストに含まれていればTrue、それ以外はFalseを返す"
   ]
  },
  {
   "cell_type": "code",
   "execution_count": 7,
   "id": "d42b5de4",
   "metadata": {},
   "outputs": [
    {
     "data": {
      "text/plain": [
       "True"
      ]
     },
     "execution_count": 7,
     "metadata": {},
     "output_type": "execute_result"
    }
   ],
   "source": [
    "10 in numbers"
   ]
  },
  {
   "cell_type": "markdown",
   "id": "a06befbe",
   "metadata": {},
   "source": [
    "in 演算子は論理演算orを簡潔に記述するのに用いる"
   ]
  },
  {
   "cell_type": "markdown",
   "id": "988697cd",
   "metadata": {},
   "source": [
    "a1 == 1 or a1 == 3 or a1 == 7:\n",
    "\n",
    "a1 in [1, 3, 7]:"
   ]
  },
  {
   "cell_type": "code",
   "execution_count": 2,
   "id": "66c8b768",
   "metadata": {},
   "outputs": [
    {
     "name": "stdout",
     "output_type": "stream",
     "text": [
      "True True\n",
      "True True\n",
      "False False\n"
     ]
    }
   ],
   "source": [
    "a1 = 1\n",
    "print(a1 == 1 or a1 == 3 or a1 == 7, a1 in [1, 3, 7])\n",
    "a1 = 3\n",
    "print(a1 == 1 or a1 == 3 or a1 == 7, a1 in [1, 3, 7])\n",
    "a1 = 5\n",
    "print(a1 ==1 or a1 == 3 or a1 == 7, a1 in [1, 3, 7])"
   ]
  },
  {
   "cell_type": "code",
   "execution_count": 8,
   "id": "65b48360",
   "metadata": {},
   "outputs": [
    {
     "data": {
      "text/plain": [
       "False"
      ]
     },
     "execution_count": 8,
     "metadata": {},
     "output_type": "execute_result"
    },
    {
     "data": {
      "text/plain": [
       "True"
      ]
     },
     "execution_count": 8,
     "metadata": {},
     "output_type": "execute_result"
    }
   ],
   "source": [
    "10 not in numbers\n",
    "11 not in numbers"
   ]
  },
  {
   "cell_type": "markdown",
   "id": "8b879bde",
   "metadata": {},
   "source": [
    "指定した要素のインデックス取得と数え上げ\n",
    "\n",
    "indexは引数で指定した要素のインデックスの番号を返す"
   ]
  },
  {
   "cell_type": "code",
   "execution_count": 10,
   "id": "26792126",
   "metadata": {},
   "outputs": [
    {
     "data": {
      "text/plain": [
       "2"
      ]
     },
     "execution_count": 10,
     "metadata": {},
     "output_type": "execute_result"
    }
   ],
   "source": [
    "numbers = [0, 10, 20, 30, 40, 50]\n",
    "numbers.index(20)"
   ]
  },
  {
   "cell_type": "code",
   "execution_count": 12,
   "id": "bf2e19d7",
   "metadata": {},
   "outputs": [
    {
     "data": {
      "text/plain": [
       "[10, 20, 30, 40, 50, 60]"
      ]
     },
     "execution_count": 12,
     "metadata": {},
     "output_type": "execute_result"
    }
   ],
   "source": [
    "# sort メゾットはリスト内の要素を並べ替える\n",
    "numbers = [30, 50, 10, 20, 40, 60]\n",
    "numbers.sort()\n",
    "\n",
    "numbers"
   ]
  },
  {
   "cell_type": "code",
   "execution_count": 15,
   "id": "a9b5fd5b",
   "metadata": {},
   "outputs": [
    {
     "data": {
      "text/plain": [
       "['a', 'b', 'c', 'd', 'e', 'f']"
      ]
     },
     "execution_count": 15,
     "metadata": {},
     "output_type": "execute_result"
    }
   ],
   "source": [
    "characters = ['e', 'd', 'a', 'c', 'f', 'b']\n",
    "characters.sort()\n",
    "characters"
   ]
  },
  {
   "cell_type": "code",
   "execution_count": 9,
   "id": "f1e00bbb",
   "metadata": {},
   "outputs": [
    {
     "data": {
      "text/plain": [
       "[60, 50, 40, 30, 20, 10]"
      ]
     },
     "execution_count": 9,
     "metadata": {},
     "output_type": "execute_result"
    },
    {
     "data": {
      "text/plain": [
       "[10, 20, 30, 40, 50, 60]"
      ]
     },
     "execution_count": 9,
     "metadata": {},
     "output_type": "execute_result"
    },
    {
     "data": {
      "text/plain": [
       "['a', 'b', 'c', 'd', 'e', 'f']"
      ]
     },
     "execution_count": 9,
     "metadata": {},
     "output_type": "execute_result"
    },
    {
     "data": {
      "text/plain": [
       "[[10, 30], [20, 5], [30, 10], [40, 20]]"
      ]
     },
     "execution_count": 9,
     "metadata": {},
     "output_type": "execute_result"
    },
    {
     "data": {
      "text/plain": [
       "[[10, 30], [20, 5], [30, 10], [40, 20]]"
      ]
     },
     "execution_count": 9,
     "metadata": {},
     "output_type": "execute_result"
    }
   ],
   "source": [
    "numbers = [30, 50, 10, 20, 40, 60]\n",
    "sorted(numbers, reverse=True)\n",
    "sorted(numbers)\n",
    "\n",
    "characters = ['e', 'd', 'a', 'c', 'f', 'b']\n",
    "sorted(characters)\n",
    "\n",
    "# 多重ソートをソートしてみる\n",
    "lns = [[20, 5], [10, 30], [40, 20], [30, 10]]\n",
    "sorted(lns)\n",
    "lns.sort()\n",
    "lns"
   ]
  },
  {
   "cell_type": "markdown",
   "id": "faccec23",
   "metadata": {},
   "source": [
    "### 破壊的（インプレース）な操作と非破壊的な生成\n",
    "sortメゾットとsoted関数は使い方が違う\n",
    "sortでは元のリストが更新されている"
   ]
  },
  {
   "cell_type": "markdown",
   "id": "fa9438f5",
   "metadata": {},
   "source": [
    "### リストに要素を追加する\n",
    "appendメゾットはリストの最後尾に指定した要素を付け加える"
   ]
  },
  {
   "cell_type": "code",
   "execution_count": 11,
   "id": "f94b4c77",
   "metadata": {},
   "outputs": [
    {
     "data": {
      "text/plain": [
       "[10, 20, 30, 40, 50, 100]"
      ]
     },
     "execution_count": 11,
     "metadata": {},
     "output_type": "execute_result"
    }
   ],
   "source": [
    "numbers = [10, 20, 30, 40, 50]\n",
    "numbers.append(100)\n",
    "numbers"
   ]
  },
  {
   "cell_type": "markdown",
   "id": "22ef2f67",
   "metadata": {},
   "source": [
    "append は、上述した空のリストと組み合わせて、あるリストから特定の条件を満たす要素のみからなる新たなリストを構成する、というような状況でしばしば用いられます。\n",
    "numbers1 = [数字たち]から０より大きい要素のみをとりだしたリストを構成できる"
   ]
  },
  {
   "cell_type": "code",
   "execution_count": 17,
   "id": "d37e47c9",
   "metadata": {},
   "outputs": [
    {
     "data": {
      "text/plain": [
       "[10, 20, 30, 40]"
      ]
     },
     "execution_count": 17,
     "metadata": {},
     "output_type": "execute_result"
    }
   ],
   "source": [
    "numbers1 = [10, -10, 20, 30, -20, 40, -30]\n",
    "# 空のリストを作成する\n",
    "positives = []\n",
    "positives.append(numbers1[0])\n",
    "positives.append(numbers1[2])\n",
    "positives.append(numbers1[3])\n",
    "positives.append(numbers1[5])\n",
    "positives"
   ]
  },
  {
   "cell_type": "code",
   "execution_count": 22,
   "id": "e53a79cf",
   "metadata": {},
   "outputs": [
    {
     "data": {
      "text/plain": [
       "[10, 20, 30, 40, 50, 200, 300, 400, 200]"
      ]
     },
     "execution_count": 22,
     "metadata": {},
     "output_type": "execute_result"
    }
   ],
   "source": [
    "# extendメゾットでリストの最後尾に指定したリストの要素を加える\n",
    "numbers = [10, 20, 30, 40, 50]\n",
    "numbers.extend([200, 300, 400, 200])\n",
    "numbers"
   ]
  },
  {
   "cell_type": "code",
   "execution_count": 23,
   "id": "f4b503ba",
   "metadata": {},
   "outputs": [
    {
     "data": {
      "text/plain": [
       "[10, 1000, 20, 30, 40, 50]"
      ]
     },
     "execution_count": 23,
     "metadata": {},
     "output_type": "execute_result"
    }
   ],
   "source": [
    "# insertメゾットはリストのインデックスを指定した位置に新しい要素を挿入する。\n",
    "numbers = [10, 20, 30, 40, 50]\n",
    "numbers.insert(1, 1000)\n",
    "numbers"
   ]
  },
  {
   "cell_type": "code",
   "execution_count": 26,
   "id": "fa818538",
   "metadata": {},
   "outputs": [
    {
     "data": {
      "text/plain": [
       "[10, 20, 40, 20]"
      ]
     },
     "execution_count": 26,
     "metadata": {},
     "output_type": "execute_result"
    },
    {
     "data": {
      "text/plain": [
       "[10, 40, 20]"
      ]
     },
     "execution_count": 26,
     "metadata": {},
     "output_type": "execute_result"
    },
    {
     "ename": "ValueError",
     "evalue": "list.remove(x): x not in list",
     "output_type": "error",
     "traceback": [
      "\u001b[0;31m---------------------------------------------------------------------------\u001b[0m",
      "\u001b[0;31mValueError\u001b[0m                                Traceback (most recent call last)",
      "\u001b[0;32m/var/folders/mk/4s4nx9q55gs1489rd21kxx2m0000gn/T/ipykernel_6630/539516874.py\u001b[0m in \u001b[0;36m<module>\u001b[0;34m\u001b[0m\n\u001b[1;32m      7\u001b[0m \u001b[0mnumbers\u001b[0m\u001b[0;34m\u001b[0m\u001b[0;34m\u001b[0m\u001b[0m\n\u001b[1;32m      8\u001b[0m \u001b[0;34m\u001b[0m\u001b[0m\n\u001b[0;32m----> 9\u001b[0;31m \u001b[0mnumbers\u001b[0m\u001b[0;34m.\u001b[0m\u001b[0mremove\u001b[0m\u001b[0;34m(\u001b[0m\u001b[0;36m100\u001b[0m\u001b[0;34m)\u001b[0m \u001b[0;31m# リストに含まれない値を指定するとエラー\u001b[0m\u001b[0;34m\u001b[0m\u001b[0;34m\u001b[0m\u001b[0m\n\u001b[0m",
      "\u001b[0;31mValueError\u001b[0m: list.remove(x): x not in list"
     ]
    }
   ],
   "source": [
    "# リストから要素を削除する\n",
    "numbers = [10, 20, 30, 40, 20]\n",
    "numbers.remove(30) # 指定した要素を削除\n",
    "numbers\n",
    "\n",
    "numbers.remove(20) # 指定した要素が複数個リストに含まれる場合、一番最初の要素を削除\n",
    "numbers\n",
    "\n",
    "numbers.remove(100) # リストに含まれない値を指定するとエラー"
   ]
  },
  {
   "cell_type": "code",
   "execution_count": 28,
   "id": "2641f275",
   "metadata": {},
   "outputs": [
    {
     "name": "stdout",
     "output_type": "stream",
     "text": [
      "30\n",
      "[10, 20, 20, 20, 40]\n"
     ]
    }
   ],
   "source": [
    "# リストからインデックスで指定した要素を削除する\n",
    "numbers = [10, 20, 20, 30, 20, 40]\n",
    "print(numbers.pop(3))\n",
    "print(numbers)"
   ]
  },
  {
   "cell_type": "code",
   "execution_count": 30,
   "id": "89e3d949",
   "metadata": {},
   "outputs": [
    {
     "data": {
      "text/plain": [
       "['b', 'f', 'c', 'a', 'd', 'e']"
      ]
     },
     "execution_count": 30,
     "metadata": {},
     "output_type": "execute_result"
    }
   ],
   "source": [
    "# リストの要素を逆順にする\n",
    "characters = ['e', 'd', 'a', 'c', 'f', 'b']\n",
    "characters.reverse()\n",
    "characters"
   ]
  },
  {
   "cell_type": "code",
   "execution_count": 32,
   "id": "c50b6711",
   "metadata": {},
   "outputs": [
    {
     "name": "stdout",
     "output_type": "stream",
     "text": [
      "[10, 20, 30, 40, 50]\n",
      "[10, 20, 30, 40, 50]\n"
     ]
    }
   ],
   "source": [
    "# copyする:リストを複製\n",
    "numbers = [10, 20, 30, 40, 50]\n",
    "numbers2 = numbers.copy()\n",
    "print(numbers)\n",
    "print(numbers2)"
   ]
  },
  {
   "cell_type": "code",
   "execution_count": 43,
   "id": "308f09a5",
   "metadata": {},
   "outputs": [
    {
     "name": "stdout",
     "output_type": "stream",
     "text": [
      "mko@ipp.u-tokyo.ac.jp\n"
     ]
    }
   ],
   "source": [
    "# emailアドレス email とドメイン名 domain を引数に取って、\n",
    "# email のドメイン名を domain に置き換える関数 change_domain(email, domain) \n",
    "# を作成してください。 なお、emailアドレスのドメイン名とは、\n",
    "# '@' で区切られた右側の部分を意味します。\n",
    "\n",
    "def change_domain(email, domain):\n",
    "    a = email.split('@')\n",
    "    b = a[0] + '@' + domain\n",
    "    return b\n",
    "\n",
    "# print(change_domain('spam@utokyo-ipp.org', 'ipp.u-tokyo.ac.jp') == 'spam@ipp.u-tokyo.ac.jp')\n",
    "print(change_domain('mko@xxx.jp', 'ipp.u-tokyo.ac.jp'))"
   ]
  },
  {
   "cell_type": "code",
   "execution_count": 7,
   "id": "164feacd",
   "metadata": {},
   "outputs": [
    {
     "data": {
      "text/plain": [
       "tuple"
      ]
     },
     "execution_count": 7,
     "metadata": {},
     "output_type": "execute_result"
    },
    {
     "data": {
      "text/plain": [
       "list"
      ]
     },
     "execution_count": 7,
     "metadata": {},
     "output_type": "execute_result"
    }
   ],
   "source": [
    "# タプル\n",
    "t1 = (1, 2, 3)\n",
    "number = [1, 2, 3]\n",
    "\n",
    "type(t1)\n",
    "type(number)"
   ]
  },
  {
   "cell_type": "code",
   "execution_count": 37,
   "id": "aca5c37a",
   "metadata": {},
   "outputs": [
    {
     "data": {
      "text/plain": [
       "(5, 4, 3, 2, 1)"
      ]
     },
     "execution_count": 37,
     "metadata": {},
     "output_type": "execute_result"
    },
    {
     "ename": "TypeError",
     "evalue": "'list' object is not callable",
     "output_type": "error",
     "traceback": [
      "\u001b[0;31m---------------------------------------------------------------------------\u001b[0m",
      "\u001b[0;31mTypeError\u001b[0m                                 Traceback (most recent call last)",
      "\u001b[0;32m/var/folders/mk/4s4nx9q55gs1489rd21kxx2m0000gn/T/ipykernel_3721/2949933161.py\u001b[0m in \u001b[0;36m<module>\u001b[0;34m\u001b[0m\n\u001b[1;32m      6\u001b[0m     \u001b[0;32mreturn\u001b[0m \u001b[0mv1\u001b[0m\u001b[0;34m\u001b[0m\u001b[0;34m\u001b[0m\u001b[0m\n\u001b[1;32m      7\u001b[0m \u001b[0mreverse_totuple\u001b[0m\u001b[0;34m(\u001b[0m\u001b[0;34m[\u001b[0m\u001b[0;36m1\u001b[0m\u001b[0;34m,\u001b[0m \u001b[0;36m2\u001b[0m\u001b[0;34m,\u001b[0m \u001b[0;36m3\u001b[0m\u001b[0;34m,\u001b[0m \u001b[0;36m4\u001b[0m\u001b[0;34m,\u001b[0m \u001b[0;36m5\u001b[0m\u001b[0;34m]\u001b[0m\u001b[0;34m)\u001b[0m\u001b[0;34m\u001b[0m\u001b[0;34m\u001b[0m\u001b[0m\n\u001b[0;32m----> 8\u001b[0;31m \u001b[0mnumber1\u001b[0m\u001b[0;34m(\u001b[0m\u001b[0;34m[\u001b[0m\u001b[0;36m1\u001b[0m\u001b[0;34m,\u001b[0m \u001b[0;36m2\u001b[0m\u001b[0;34m,\u001b[0m \u001b[0;36m3\u001b[0m\u001b[0;34m]\u001b[0m\u001b[0;34m)\u001b[0m\u001b[0;34m\u001b[0m\u001b[0;34m\u001b[0m\u001b[0m\n\u001b[0m\u001b[1;32m      9\u001b[0m \u001b[0mnumber1\u001b[0m\u001b[0;34m\u001b[0m\u001b[0;34m\u001b[0m\u001b[0m\n",
      "\u001b[0;31mTypeError\u001b[0m: 'list' object is not callable"
     ]
    }
   ],
   "source": [
    "# 整数の要素からなるリスト ln を引数として取り、 \n",
    "# ln に含まれる要素を逆順に格納したタプルを返す関数 reverse_totuple を作成してください。\n",
    "def reverse_totuple(ln):\n",
    "    ln.reverse()\n",
    "    v1 = tuple(ln)\n",
    "    return v1\n",
    "reverse_totuple([1, 2, 3, 4, 5])\n",
    "number1([1, 2, 3])\n",
    "number1"
   ]
  },
  {
   "cell_type": "code",
   "execution_count": 39,
   "id": "29922e02",
   "metadata": {},
   "outputs": [
    {
     "name": "stdout",
     "output_type": "stream",
     "text": [
      "pen apple\n"
     ]
    }
   ],
   "source": [
    "x = 'apple'\n",
    "y = 'pen'\n",
    "x, y = y, x\n",
    "print(x, y)"
   ]
  },
  {
   "cell_type": "markdown",
   "id": "316dc9d6",
   "metadata": {},
   "source": [
    "## for文による繰り返しとリスト・タプル"
   ]
  },
  {
   "cell_type": "code",
   "execution_count": null,
   "id": "48110bfa",
   "metadata": {},
   "outputs": [],
   "source": []
  }
 ],
 "metadata": {
  "kernelspec": {
   "display_name": "Python 3 (ipykernel)",
   "language": "python",
   "name": "python3"
  },
  "language_info": {
   "codemirror_mode": {
    "name": "ipython",
    "version": 3
   },
   "file_extension": ".py",
   "mimetype": "text/x-python",
   "name": "python",
   "nbconvert_exporter": "python",
   "pygments_lexer": "ipython3",
   "version": "3.9.13"
  }
 },
 "nbformat": 4,
 "nbformat_minor": 5
}
