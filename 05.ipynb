{
 "cells": [
  {
   "cell_type": "markdown",
   "id": "f5546b6e",
   "metadata": {},
   "source": [
    "## 2-2"
   ]
  },
  {
   "cell_type": "code",
   "execution_count": 1,
   "id": "724d2fd7",
   "metadata": {},
   "outputs": [],
   "source": [
    "from IPython import InteractiveShell\n",
    "InteractiveShell.ast_node_interactivity = \"all\" "
   ]
  },
  {
   "cell_type": "markdown",
   "id": "1a622a9b",
   "metadata": {},
   "source": [
    "リストとインデックス」<br>\n",
    "リストでは構成する要素としてあらゆる型のデータを指定可能。<br>\n",
    "<br>\n",
    "リストを作成するには構成する要素をコンマで区切り全体を[]で囲む<br>"
   ]
  },
  {
   "cell_type": "code",
   "execution_count": 4,
   "id": "1bf4ee24",
   "metadata": {},
   "outputs": [
    {
     "data": {
      "text/plain": [
       "[0, 10, 20, 30, 40, 50]"
      ]
     },
     "execution_count": 4,
     "metadata": {},
     "output_type": "execute_result"
    },
    {
     "data": {
      "text/plain": [
       "list"
      ]
     },
     "execution_count": 4,
     "metadata": {},
     "output_type": "execute_result"
    }
   ],
   "source": [
    "# 数値を要素とするリストを作成して、変数に代入\n",
    "\n",
    "numbers = [0, 10, 20, 30, 40, 50]\n",
    "numbers\n",
    "\n",
    "# 文字列と同様に組み込み関数typeを用いて変数の値がリストであることを確認している\n",
    "type(numbers)\n",
    "# 文字列のデータ型はlist"
   ]
  },
  {
   "cell_type": "code",
   "execution_count": 6,
   "id": "f3b8daec",
   "metadata": {},
   "outputs": [
    {
     "data": {
      "text/plain": [
       "['apple', 'banana', 'chelly']"
      ]
     },
     "execution_count": 6,
     "metadata": {},
     "output_type": "execute_result"
    }
   ],
   "source": [
    "# 文字列を構成要素とするリストを作成してみる\n",
    "fruits = ['apple', 'banana', 'chelly']\n",
    "fruits"
   ]
  },
  {
   "cell_type": "code",
   "execution_count": 9,
   "id": "e254f57b",
   "metadata": {},
   "outputs": [
    {
     "data": {
      "text/plain": [
       "[10, 'apple', 20, 'banana', 30]"
      ]
     },
     "execution_count": 9,
     "metadata": {},
     "output_type": "execute_result"
    }
   ],
   "source": [
    "# 数値と文字列混在していてもOK\n",
    "number_fruits = [10, 'apple', 20, 'banana', 30]\n",
    "number_fruits"
   ]
  },
  {
   "cell_type": "code",
   "execution_count": 10,
   "id": "7e5619af",
   "metadata": {},
   "outputs": [
    {
     "data": {
      "text/plain": [
       "[]"
      ]
     },
     "execution_count": 10,
     "metadata": {},
     "output_type": "execute_result"
    }
   ],
   "source": [
    "# 何も格納していない(空リスト)を作成できる\n",
    "# 空リストはプログラム実行の途中結果を記録する場合などによく使われいる\n",
    "empty = []\n",
    "empty"
   ]
  },
  {
   "cell_type": "markdown",
   "id": "f74e2768",
   "metadata": {},
   "source": [
    "リストとインデックス <br>\n",
    "文字列の場合と同様にインデックスを指定してリストの要素を取り出すことができる<br>\n",
    "リストX番目要素を取り出すには、<br>\n",
    "リスト[x-1]\n",
    "インデックスは0から始まることを忘れずに。"
   ]
  },
  {
   "cell_type": "code",
   "execution_count": 11,
   "id": "31cb295a",
   "metadata": {},
   "outputs": [
    {
     "data": {
      "text/plain": [
       "'a'"
      ]
     },
     "execution_count": 11,
     "metadata": {},
     "output_type": "execute_result"
    }
   ],
   "source": [
    "abcd = ['a', 'b', 'c', 'd']\n",
    "abcd[0]"
   ]
  },
  {
   "cell_type": "code",
   "execution_count": 13,
   "id": "bbf940f0",
   "metadata": {},
   "outputs": [
    {
     "data": {
      "text/plain": [
       "['a', 'b', 'c', 'dekiruotoko']"
      ]
     },
     "execution_count": 13,
     "metadata": {},
     "output_type": "execute_result"
    }
   ],
   "source": [
    "# リストは変更可能なデータ、代入してみよう\n",
    "abcd[3] = 'dekiruotoko'\n",
    "abcd"
   ]
  },
  {
   "cell_type": "code",
   "execution_count": 14,
   "id": "4f99a410",
   "metadata": {},
   "outputs": [
    {
     "data": {
      "text/plain": [
       "['b', 'c']"
      ]
     },
     "execution_count": 14,
     "metadata": {},
     "output_type": "execute_result"
    },
    {
     "data": {
      "text/plain": [
       "['a', 'c']"
      ]
     },
     "execution_count": 14,
     "metadata": {},
     "output_type": "execute_result"
    }
   ],
   "source": [
    "# スライスもできる\n",
    "abcd[1:3]\n",
    "abcd[0:5:2]"
   ]
  },
  {
   "cell_type": "code",
   "execution_count": 1,
   "id": "16a50f15",
   "metadata": {},
   "outputs": [
    {
     "data": {
      "text/plain": [
       "['a', 'X', 'Y', 'Z', 'd']"
      ]
     },
     "execution_count": 1,
     "metadata": {},
     "output_type": "execute_result"
    }
   ],
   "source": [
    "# 合わせ技でスライスに代入\n",
    "abcd = ['a', 'b', 'c', 'd']\n",
    "abcd[1:3] = ['X', 'Y', 'Z']\n",
    "abcd"
   ]
  },
  {
   "cell_type": "code",
   "execution_count": 1,
   "id": "10a7d978",
   "metadata": {},
   "outputs": [
    {
     "name": "stdout",
     "output_type": "stream",
     "text": [
      "True\n",
      "True\n"
     ]
    }
   ],
   "source": [
    "def remove_evenindex(ln):\n",
    "    ln2 = ln[1::2]\n",
    "    return ln2\n",
    "\n",
    "print(remove_evenindex(['a', 'b', 'c', 'd', 'e', 'f', 'g']) == ['b', 'd', 'f'] )\n",
    "print(remove_evenindex([1, 2, 3, 4, 5]) == [2, 4])"
   ]
  },
  {
   "cell_type": "markdown",
   "id": "94baebe2",
   "metadata": {},
   "source": [
    "## 多重リスト"
   ]
  },
  {
   "cell_type": "code",
   "execution_count": 3,
   "id": "9a2ff4c1",
   "metadata": {},
   "outputs": [
    {
     "data": {
      "text/plain": [
       "10"
      ]
     },
     "execution_count": 3,
     "metadata": {},
     "output_type": "execute_result"
    },
    {
     "data": {
      "text/plain": [
       "['a', 'b', 'c']"
      ]
     },
     "execution_count": 3,
     "metadata": {},
     "output_type": "execute_result"
    }
   ],
   "source": [
    "# []で中に格納するとリストになるが、[]に[]を格納すると多重リストにできる\n",
    "lns = [[1, 2, 3], [10, 20, 30], ['a', 'b', 'c']]\n",
    "\n",
    "# 一つ目の[]でどのセットを見るか\n",
    "# 二つ目の[]でその中のどこを見るか\n",
    "lns[1][0]\n",
    "\n",
    "# (大きい方のリストを見るには)[]一つだけで良い\n",
    "lns[2]"
   ]
  },
  {
   "cell_type": "code",
   "execution_count": 4,
   "id": "9701e625",
   "metadata": {},
   "outputs": [
    {
     "data": {
      "text/plain": [
       "[[[1, 2, 3], [10, 20, 30], ['a', 'b', 'c']],\n",
       " ['x', 1, [11, 12, 13]],\n",
       " ['y', [100, 140]]]"
      ]
     },
     "execution_count": 4,
     "metadata": {},
     "output_type": "execute_result"
    }
   ],
   "source": [
    "# リストを値とする変数を指定することもできる\n",
    "lns2 = [lns, ['x', 1, [11, 12, 13]], ['y', [100, 140]] ]\n",
    "lns2"
   ]
  },
  {
   "cell_type": "code",
   "execution_count": 5,
   "id": "a4320ecb",
   "metadata": {},
   "outputs": [
    {
     "data": {
      "text/plain": [
       "[[1, 2, 3], [10, 20, 30], ['a', 'b', 'c']]"
      ]
     },
     "execution_count": 5,
     "metadata": {},
     "output_type": "execute_result"
    }
   ],
   "source": [
    "lns2[0]"
   ]
  },
  {
   "cell_type": "markdown",
   "id": "15237d93",
   "metadata": {},
   "source": [
    "lenでリストの長さ、要素数を返す\n",
    "max/min ->文字列のリストにも対応(辞書順になる)\n",
    "sumは数のリストが与えられるとその総和を返す"
   ]
  },
  {
   "cell_type": "code",
   "execution_count": 5,
   "id": "45974faf",
   "metadata": {},
   "outputs": [
    {
     "data": {
      "text/plain": [
       "6"
      ]
     },
     "execution_count": 5,
     "metadata": {},
     "output_type": "execute_result"
    },
    {
     "data": {
      "text/plain": [
       "50"
      ]
     },
     "execution_count": 5,
     "metadata": {},
     "output_type": "execute_result"
    },
    {
     "data": {
      "text/plain": [
       "0"
      ]
     },
     "execution_count": 5,
     "metadata": {},
     "output_type": "execute_result"
    },
    {
     "data": {
      "text/plain": [
       "'a'"
      ]
     },
     "execution_count": 5,
     "metadata": {},
     "output_type": "execute_result"
    },
    {
     "data": {
      "text/plain": [
       "150"
      ]
     },
     "execution_count": 5,
     "metadata": {},
     "output_type": "execute_result"
    }
   ],
   "source": [
    "numbers = [0, 10, 20, 30, 40, 50]\n",
    "len(numbers)\n",
    "max(numbers)\n",
    "min(numbers)\n",
    "\n",
    "characters = ['e', 'd', 'a', 'c', 'f', 'b']\n",
    "min(characters)\n",
    "\n",
    "sum(numbers)"
   ]
  },
  {
   "cell_type": "markdown",
   "id": "d9c5358f",
   "metadata": {},
   "source": [
    "演算子＋でリストの連結、＊によって連結の繰り返し回数を指定できる。"
   ]
  },
  {
   "cell_type": "code",
   "execution_count": 10,
   "id": "e841005d",
   "metadata": {},
   "outputs": [
    {
     "data": {
      "text/plain": [
       "[0, 10, 20, 30, 40, 50]"
      ]
     },
     "execution_count": 10,
     "metadata": {},
     "output_type": "execute_result"
    },
    {
     "data": {
      "text/plain": [
       "[0, 10, 20, 30, 40, 50, 'a', 'b', 'c']"
      ]
     },
     "execution_count": 10,
     "metadata": {},
     "output_type": "execute_result"
    },
    {
     "data": {
      "text/plain": [
       "[0, 10, 20, 30, 40, 50, 0, 10, 20, 30, 40, 50, 0, 10, 20, 30, 40, 50]"
      ]
     },
     "execution_count": 10,
     "metadata": {},
     "output_type": "execute_result"
    }
   ],
   "source": [
    "numbers\n",
    "numbers + ['a', 'b', 'c']\n",
    "numbers*3"
   ]
  },
  {
   "cell_type": "markdown",
   "id": "7655de2f",
   "metadata": {},
   "source": [
    "要素が全て同じ値（たとえば、0 ）のリストを作る最も簡単な方法は<br>\n",
    "この * 演算子を使うこと"
   ]
  },
  {
   "cell_type": "code",
   "execution_count": 11,
   "id": "18e96653",
   "metadata": {},
   "outputs": [
    {
     "data": {
      "text/plain": [
       "[0, 0, 0, 0, 0, 0, 0, 0, 0, 0]"
      ]
     },
     "execution_count": 11,
     "metadata": {},
     "output_type": "execute_result"
    }
   ],
   "source": [
    "zero10 = [0] * 10\n",
    "zero10"
   ]
  },
  {
   "cell_type": "markdown",
   "id": "40d4352e",
   "metadata": {},
   "source": [
    "＊は＋を繰り返し行うのと同じ結果を返す。<br>\n",
    "x*3はx+x+xと同じ<br>\n",
    "多重リストの時はリストが繰り返される"
   ]
  },
  {
   "cell_type": "code",
   "execution_count": 13,
   "id": "081ff5d7",
   "metadata": {},
   "outputs": [
    {
     "data": {
      "text/plain": [
       "[[0, 1], [2, 3], [0, 1], [2, 3], [0, 1], [2, 3]]"
      ]
     },
     "execution_count": 13,
     "metadata": {},
     "output_type": "execute_result"
    }
   ],
   "source": [
    "x = [[0,1], [2, 3]]\n",
    "y = x*3\n",
    "y"
   ]
  },
  {
   "cell_type": "code",
   "execution_count": 14,
   "id": "a8f7b870",
   "metadata": {},
   "outputs": [
    {
     "data": {
      "text/plain": [
       "[[999, 1], [2, 3], [999, 1], [2, 3], [999, 1], [2, 3]]"
      ]
     },
     "execution_count": 14,
     "metadata": {},
     "output_type": "execute_result"
    }
   ],
   "source": [
    "# xの要素が変更されるとyのなかで複数箇所で変化する。\n",
    "x[0][0] = 999\n",
    "y"
   ]
  },
  {
   "cell_type": "markdown",
   "id": "daca7b87",
   "metadata": {},
   "source": [
    "in 演算子は左の要素がリストに含まれていればTrue、それ以外はFalseを返す"
   ]
  },
  {
   "cell_type": "code",
   "execution_count": 7,
   "id": "d42b5de4",
   "metadata": {},
   "outputs": [
    {
     "data": {
      "text/plain": [
       "True"
      ]
     },
     "execution_count": 7,
     "metadata": {},
     "output_type": "execute_result"
    }
   ],
   "source": [
    "10 in numbers"
   ]
  },
  {
   "cell_type": "markdown",
   "id": "a06befbe",
   "metadata": {},
   "source": [
    "in 演算子は論理演算orを簡潔に記述するのに用いる"
   ]
  },
  {
   "cell_type": "markdown",
   "id": "988697cd",
   "metadata": {},
   "source": [
    "a1 == 1 or a1 == 3 or a1 == 7:\n",
    "\n",
    "a1 in [1, 3, 7]:"
   ]
  },
  {
   "cell_type": "code",
   "execution_count": 2,
   "id": "66c8b768",
   "metadata": {},
   "outputs": [
    {
     "name": "stdout",
     "output_type": "stream",
     "text": [
      "True True\n",
      "True True\n",
      "False False\n"
     ]
    }
   ],
   "source": [
    "a1 = 1\n",
    "print(a1 == 1 or a1 == 3 or a1 == 7, a1 in [1, 3, 7])\n",
    "a1 = 3\n",
    "print(a1 == 1 or a1 == 3 or a1 == 7, a1 in [1, 3, 7])\n",
    "a1 = 5\n",
    "print(a1 ==1 or a1 == 3 or a1 == 7, a1 in [1, 3, 7])"
   ]
  },
  {
   "cell_type": "code",
   "execution_count": 8,
   "id": "65b48360",
   "metadata": {},
   "outputs": [
    {
     "data": {
      "text/plain": [
       "False"
      ]
     },
     "execution_count": 8,
     "metadata": {},
     "output_type": "execute_result"
    },
    {
     "data": {
      "text/plain": [
       "True"
      ]
     },
     "execution_count": 8,
     "metadata": {},
     "output_type": "execute_result"
    }
   ],
   "source": [
    "10 not in numbers\n",
    "11 not in numbers"
   ]
  },
  {
   "cell_type": "markdown",
   "id": "8b879bde",
   "metadata": {},
   "source": [
    "指定した要素のインデックス取得と数え上げ\n",
    "\n",
    "indexは引数で指定した要素のインデックスの番号を返す"
   ]
  },
  {
   "cell_type": "code",
   "execution_count": 10,
   "id": "26792126",
   "metadata": {},
   "outputs": [
    {
     "data": {
      "text/plain": [
       "2"
      ]
     },
     "execution_count": 10,
     "metadata": {},
     "output_type": "execute_result"
    }
   ],
   "source": [
    "numbers = [0, 10, 20, 30, 40, 50]\n",
    "numbers.index(20)"
   ]
  },
  {
   "cell_type": "code",
   "execution_count": 12,
   "id": "bf2e19d7",
   "metadata": {},
   "outputs": [
    {
     "data": {
      "text/plain": [
       "[10, 20, 30, 40, 50, 60]"
      ]
     },
     "execution_count": 12,
     "metadata": {},
     "output_type": "execute_result"
    }
   ],
   "source": [
    "# sort メゾットはリスト内の要素を並べ替える\n",
    "numbers = [30, 50, 10, 20, 40, 60]\n",
    "numbers.sort()\n",
    "\n",
    "numbers"
   ]
  },
  {
   "cell_type": "code",
   "execution_count": 15,
   "id": "a9b5fd5b",
   "metadata": {},
   "outputs": [
    {
     "data": {
      "text/plain": [
       "['a', 'b', 'c', 'd', 'e', 'f']"
      ]
     },
     "execution_count": 15,
     "metadata": {},
     "output_type": "execute_result"
    }
   ],
   "source": [
    "characters = ['e', 'd', 'a', 'c', 'f', 'b']\n",
    "characters.sort()\n",
    "characters"
   ]
  },
  {
   "cell_type": "code",
   "execution_count": 16,
   "id": "f1e00bbb",
   "metadata": {},
   "outputs": [
    {
     "data": {
      "text/plain": [
       "[60, 50, 40, 30, 20, 10]"
      ]
     },
     "execution_count": 16,
     "metadata": {},
     "output_type": "execute_result"
    }
   ],
   "source": [
    "numbers = [30, 50, 10, 20, 40, 60]\n",
    "sorted(numbers, reverse=True)"
   ]
  },
  {
   "cell_type": "code",
   "execution_count": null,
   "id": "408c14dc",
   "metadata": {},
   "outputs": [],
   "source": []
  }
 ],
 "metadata": {
  "kernelspec": {
   "display_name": "Python 3 (ipykernel)",
   "language": "python",
   "name": "python3"
  },
  "language_info": {
   "codemirror_mode": {
    "name": "ipython",
    "version": 3
   },
   "file_extension": ".py",
   "mimetype": "text/x-python",
   "name": "python",
   "nbconvert_exporter": "python",
   "pygments_lexer": "ipython3",
   "version": "3.9.13"
  }
 },
 "nbformat": 4,
 "nbformat_minor": 5
}
