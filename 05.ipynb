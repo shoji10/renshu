{
 "cells": [
  {
   "cell_type": "markdown",
   "id": "f5546b6e",
   "metadata": {},
   "source": [
    "## 2-2"
   ]
  },
  {
   "cell_type": "code",
   "execution_count": 2,
   "id": "724d2fd7",
   "metadata": {},
   "outputs": [],
   "source": [
    "from IPython import InteractiveShell\n",
    "InteractiveShell.ast_node_interactivity = \"all\" "
   ]
  },
  {
   "cell_type": "markdown",
   "id": "1a622a9b",
   "metadata": {},
   "source": [
    "リストとインデックス」<br>\n",
    "リストでは構成する要素としてあらゆる型のデータを指定可能。<br>\n",
    "<br>\n",
    "リストを作成するには構成する要素をコンマで区切り全体を[]で囲む<br>"
   ]
  },
  {
   "cell_type": "code",
   "execution_count": 4,
   "id": "1bf4ee24",
   "metadata": {},
   "outputs": [
    {
     "data": {
      "text/plain": [
       "[0, 10, 20, 30, 40, 50]"
      ]
     },
     "execution_count": 4,
     "metadata": {},
     "output_type": "execute_result"
    },
    {
     "data": {
      "text/plain": [
       "list"
      ]
     },
     "execution_count": 4,
     "metadata": {},
     "output_type": "execute_result"
    }
   ],
   "source": [
    "# 数値を要素とするリストを作成して、変数に代入\n",
    "\n",
    "numbers = [0, 10, 20, 30, 40, 50]\n",
    "numbers\n",
    "\n",
    "# 文字列と同様に組み込み関数typeを用いて変数の値がリストであることを確認している\n",
    "type(numbers)\n",
    "# 文字列のデータ型はlist"
   ]
  },
  {
   "cell_type": "code",
   "execution_count": 6,
   "id": "f3b8daec",
   "metadata": {},
   "outputs": [
    {
     "data": {
      "text/plain": [
       "['apple', 'banana', 'chelly']"
      ]
     },
     "execution_count": 6,
     "metadata": {},
     "output_type": "execute_result"
    }
   ],
   "source": [
    "# 文字列を構成要素とするリストを作成してみる\n",
    "fruits = ['apple', 'banana', 'chelly']\n",
    "fruits"
   ]
  },
  {
   "cell_type": "code",
   "execution_count": 9,
   "id": "e254f57b",
   "metadata": {},
   "outputs": [
    {
     "data": {
      "text/plain": [
       "[10, 'apple', 20, 'banana', 30]"
      ]
     },
     "execution_count": 9,
     "metadata": {},
     "output_type": "execute_result"
    }
   ],
   "source": [
    "# 数値と文字列混在していてもOK\n",
    "number_fruits = [10, 'apple', 20, 'banana', 30]\n",
    "number_fruits"
   ]
  },
  {
   "cell_type": "code",
   "execution_count": 10,
   "id": "7e5619af",
   "metadata": {},
   "outputs": [
    {
     "data": {
      "text/plain": [
       "[]"
      ]
     },
     "execution_count": 10,
     "metadata": {},
     "output_type": "execute_result"
    }
   ],
   "source": [
    "# 何も格納していない(空リスト)を作成できる\n",
    "# 空リストはプログラム実行の途中結果を記録する場合などによく使われいる\n",
    "empty = []\n",
    "empty"
   ]
  },
  {
   "cell_type": "markdown",
   "id": "f74e2768",
   "metadata": {},
   "source": [
    "リストとインデックス <br>\n",
    "文字列の場合と同様にインデックスを指定してリストの要素を取り出すことができる<br>\n",
    "リストX番目要素を取り出すには、<br>\n",
    "リスト[x-1]\n",
    "インデックスは0から始まることを忘れずに。"
   ]
  },
  {
   "cell_type": "code",
   "execution_count": 11,
   "id": "31cb295a",
   "metadata": {},
   "outputs": [
    {
     "data": {
      "text/plain": [
       "'a'"
      ]
     },
     "execution_count": 11,
     "metadata": {},
     "output_type": "execute_result"
    }
   ],
   "source": [
    "abcd = ['a', 'b', 'c', 'd']\n",
    "abcd[0]"
   ]
  },
  {
   "cell_type": "code",
   "execution_count": 13,
   "id": "bbf940f0",
   "metadata": {},
   "outputs": [
    {
     "data": {
      "text/plain": [
       "['a', 'b', 'c', 'dekiruotoko']"
      ]
     },
     "execution_count": 13,
     "metadata": {},
     "output_type": "execute_result"
    }
   ],
   "source": [
    "# リストは変更可能なデータ、代入してみよう\n",
    "abcd[3] = 'dekiruotoko'\n",
    "abcd"
   ]
  },
  {
   "cell_type": "code",
   "execution_count": 14,
   "id": "4f99a410",
   "metadata": {},
   "outputs": [
    {
     "data": {
      "text/plain": [
       "['b', 'c']"
      ]
     },
     "execution_count": 14,
     "metadata": {},
     "output_type": "execute_result"
    },
    {
     "data": {
      "text/plain": [
       "['a', 'c']"
      ]
     },
     "execution_count": 14,
     "metadata": {},
     "output_type": "execute_result"
    }
   ],
   "source": [
    "# スライスもできる\n",
    "abcd[1:3]\n",
    "abcd[0:5:2]"
   ]
  },
  {
   "cell_type": "code",
   "execution_count": 1,
   "id": "16a50f15",
   "metadata": {},
   "outputs": [
    {
     "data": {
      "text/plain": [
       "['a', 'X', 'Y', 'Z', 'd']"
      ]
     },
     "execution_count": 1,
     "metadata": {},
     "output_type": "execute_result"
    }
   ],
   "source": [
    "# 合わせ技でスライスに代入\n",
    "abcd = ['a', 'b', 'c', 'd']\n",
    "abcd[1:3] = ['X', 'Y', 'Z']\n",
    "abcd"
   ]
  },
  {
   "cell_type": "code",
   "execution_count": 3,
   "id": "10a7d978",
   "metadata": {},
   "outputs": [
    {
     "name": "stdout",
     "output_type": "stream",
     "text": [
      "True\n",
      "True\n"
     ]
    }
   ],
   "source": [
    "def remove_evenindex(ln):\n",
    "    ln2 = ln[1::2]\n",
    "    return ln2\n",
    "\n",
    "print(remove_evenindex(['a', 'b', 'c', 'd', 'e', 'f', 'g']) == ['b', 'd', 'f'] )\n",
    "print(remove_evenindex([1, 2, 3, 4, 5]) == [2, 4])"
   ]
  }
 ],
 "metadata": {
  "kernelspec": {
   "display_name": "Python 3 (ipykernel)",
   "language": "python",
   "name": "python3"
  },
  "language_info": {
   "codemirror_mode": {
    "name": "ipython",
    "version": 3
   },
   "file_extension": ".py",
   "mimetype": "text/x-python",
   "name": "python",
   "nbconvert_exporter": "python",
   "pygments_lexer": "ipython3",
   "version": "3.9.13"
  }
 },
 "nbformat": 4,
 "nbformat_minor": 5
}
