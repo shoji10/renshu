{
 "cells": [
  {
   "cell_type": "markdown",
   "id": "1cecc177",
   "metadata": {},
   "source": [
    "## 2-3. 条件分岐¶"
   ]
  },
  {
   "cell_type": "code",
   "execution_count": 1,
   "id": "ff2a74b9",
   "metadata": {},
   "outputs": [],
   "source": [
    "from IPython import InteractiveShell\n",
    "InteractiveShell.ast_node_interactivity = \"all\" "
   ]
  },
  {
   "cell_type": "markdown",
   "id": "6724ad33",
   "metadata": {},
   "source": [
    "### 練習<br>\n",
    "関数 exception3(x,y,z) の引数は以下の条件を満たすとします。<br>\n",
    "<br>\n",
    "xとyとzの値は整数です。<br>\n",
    "<br>\n",
    "xとyとzのうち、2つの値は同じで、もう1つの値は他の2つの値とは異なるとします。<br>\n",
    "<br>\n",
    "その異なる値を返すように、以下のセルの ... のところを書き換えて<br>\n",
    "exception3(x,y,z) を定義してください。"
   ]
  },
  {
   "cell_type": "markdown",
   "id": "8a88eb37",
   "metadata": {},
   "source": [
    "(要約)<br>\n",
    "2つは同じ整数で1つだけ異なる整数である3つの整数が渡された時、<br>\n",
    "1つだけ異なる整数を出力する"
   ]
  },
  {
   "cell_type": "code",
   "execution_count": 15,
   "id": "21d54a57",
   "metadata": {},
   "outputs": [],
   "source": [
    "def exception3(x,y,z):\n",
    "    if x==y:\n",
    "         print(z)\n",
    "    elif x==z:\n",
    "        print(y)\n",
    "    else:\n",
    "         print(x)\n",
    "\n"
   ]
  },
  {
   "cell_type": "code",
   "execution_count": 16,
   "id": "b176f7c1",
   "metadata": {},
   "outputs": [
    {
     "name": "stdout",
     "output_type": "stream",
     "text": [
      "1\n",
      "None\n",
      "2\n",
      "None\n",
      "3\n",
      "None\n"
     ]
    }
   ],
   "source": [
    "print(exception3(1,2,2))\n",
    "print(exception3(4,2,4))\n",
    "print(exception3(9,3,9))"
   ]
  },
  {
   "cell_type": "code",
   "execution_count": 18,
   "id": "7af0252e",
   "metadata": {},
   "outputs": [
    {
     "name": "stdout",
     "output_type": "stream",
     "text": [
      "1\n",
      "2\n",
      "3\n"
     ]
    }
   ],
   "source": [
    "# 正しくはこれらしい\n",
    "def exception4(x,y,z):\n",
    "    if x==y:\n",
    "        return z\n",
    "    elif x==z:\n",
    "        return y\n",
    "    else:\n",
    "        return x\n",
    "    \n",
    "print(exception4(1,2,2))\n",
    "print(exception4(4,2,4))\n",
    "print(exception4(9,3,9))"
   ]
  },
  {
   "cell_type": "markdown",
   "id": "30a6826e",
   "metadata": {},
   "source": [
    "関数 exception9(a) の引数は以下の条件を満たすとします。<br>\n",
    "<br>\n",
    "引数aには、長さが9のリストが渡されます。<br>\n",
    "<br>\n",
    "このリストの要素は整数ですが、1つの要素を除いて、残りは要素の値は全て同じとします。<br>\n",
    "<br>\n",
    "その1つの要素の値を返すように、以下のセルの ... のところを書き換えて exception9(a) を定義してください。"
   ]
  },
  {
   "cell_type": "markdown",
   "id": "00cf373c",
   "metadata": {},
   "source": [
    "(要約)\n",
    "上のexception3を利用して9つの整数から8つ同じ整数を省いて1つだけ異なる整数を出力"
   ]
  },
  {
   "cell_type": "code",
   "execution_count": 29,
   "id": "3ed96f59",
   "metadata": {},
   "outputs": [
    {
     "name": "stdout",
     "output_type": "stream",
     "text": [
      "1\n",
      "None\n",
      "2\n",
      "None\n",
      "3\n",
      "None\n"
     ]
    }
   ],
   "source": [
    "def exception8(a):\n",
    "# 9つの整数を3*3に区切る\n",
    "# 3つの整数足して比較して同じなら別の区切りの中に違う数字が紛れ込んでる\n",
    "    x = a[0] + a[1] + a[2]\n",
    "    y = a[3] + a[4] + a[5]\n",
    "    z = a[6] + a[7] + a[8]\n",
    "# exception3(4が模範解答でもとくになし)を使う\n",
    "    if x==y:\n",
    "        return exception3(a[6], a[7], a[8])\n",
    "    elif x==z:\n",
    "        return exception3(a[3], a[4], a[5])\n",
    "    else:\n",
    "        return exception3(a[0], a[1], a[2])\n",
    "    \n",
    "print(exception9([1,2,2,2,2,2,2,2,2]))\n",
    "print(exception9([4,4,4,4,4,2,4,4,4]))\n",
    "print(exception9([9,9,9,9,9,9,9,9,3]))"
   ]
  },
  {
   "cell_type": "markdown",
   "id": "5e442ad8",
   "metadata": {},
   "source": [
    "複数行にまたがる条件式"
   ]
  },
  {
   "cell_type": "code",
   "execution_count": 7,
   "id": "bd635551",
   "metadata": {},
   "outputs": [
    {
     "name": "stdout",
     "output_type": "stream",
     "text": [
      "x, y and z are different and negatives.\n",
      "x, y and z are different and negatives\n"
     ]
    }
   ],
   "source": [
    "# 長い条件式は以下の記述で複数行に分割して書くことができる。\n",
    "# リーダブルコードの為に\n",
    "# ()、\\を用いる\n",
    "x, y, z = (-1, -2, -3)\n",
    "if (x < 0 and y < 0 and z < 0 and\n",
    "   x != y and y != z and x != z):\n",
    "    print('x, y and z are different and negatives.')\n",
    "    \n",
    "x, y, z = (-1, -2, -3)\n",
    "if x < 0 and y < 0 and z < 0 and \\\n",
    "    x != y and y != z and x != z:\n",
    "    print('x, y and z are different and negatives')"
   ]
  },
  {
   "cell_type": "markdown",
   "id": "93c8abc4",
   "metadata": {},
   "source": [
    "## \\って英字入力に切り替えないと出てこないんだよね<br>\n",
    "## ¥になる時がある"
   ]
  },
  {
   "cell_type": "markdown",
   "id": "88b954be",
   "metadata": {},
   "source": [
    "ifとelifによる条件分岐ではifあるいはelifに続く条件式がtrueの場合はそれ以降のelifに続く条件式の評価は行われない。"
   ]
  },
  {
   "cell_type": "code",
   "execution_count": 4,
   "id": "af812f69",
   "metadata": {},
   "outputs": [
    {
     "name": "stdout",
     "output_type": "stream",
     "text": [
      "x is zero.\n",
      "0\n"
     ]
    }
   ],
   "source": [
    "x = 3\n",
    "\n",
    "if x > 0:\n",
    "    print('x is greater than zero.')\n",
    "elif x < 0:\n",
    "    print('x is less then xero, but x will be 0')\n",
    "else: # x=0\n",
    "    print('x is zero.')\n",
    "    \n",
    "print(x)"
   ]
  },
  {
   "cell_type": "markdown",
   "id": "7aee49c6",
   "metadata": {},
   "source": [
    "並び変えて正しく動作するコードにする"
   ]
  },
  {
   "cell_type": "code",
   "execution_count": 12,
   "id": "2bb80fbc",
   "metadata": {},
   "outputs": [
    {
     "name": "stdout",
     "output_type": "stream",
     "text": [
      "x is less than 1\n",
      "0\n"
     ]
    }
   ],
   "source": [
    "x = 0\n",
    "if x >= 3:\n",
    "    print('x is larger or equal to 3')\n",
    "#         \n",
    "elif x >= 2:\n",
    "    print('x is larger than or equal to 2, and less than 3')\n",
    "elif x >= 1:\n",
    "    print('x is larger than or equal to 1, and less than 2')\n",
    "else:\n",
    "    print('x is less than 1')\n",
    "    \n",
    "print(x)"
   ]
  },
  {
   "cell_type": "markdown",
   "id": "bdb3cf12",
   "metadata": {},
   "source": [
    "orもしくはandで結合された条件の評価"
   ]
  },
  {
   "cell_type": "code",
   "execution_count": null,
   "id": "f1224418",
   "metadata": {},
   "outputs": [],
   "source": []
  }
 ],
 "metadata": {
  "kernelspec": {
   "display_name": "Python 3 (ipykernel)",
   "language": "python",
   "name": "python3"
  },
  "language_info": {
   "codemirror_mode": {
    "name": "ipython",
    "version": 3
   },
   "file_extension": ".py",
   "mimetype": "text/x-python",
   "name": "python",
   "nbconvert_exporter": "python",
   "pygments_lexer": "ipython3",
   "version": "3.9.12"
  }
 },
 "nbformat": 4,
 "nbformat_minor": 5
}
